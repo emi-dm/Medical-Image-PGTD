{
 "cells": [
  {
   "cell_type": "markdown",
   "metadata": {
    "id": "WA9Ji24oyvn5"
   },
   "source": [
    "# Ejemplo \"Hello World\" de MONAI Auto3DSeg\n",
    "\n",
    "En este notebook, proporcionaremos una demostración simple de cómo usar AutoRunner de Auto3DSeg para procesar un conjunto de datos simulado y generar resultados en minutos.\n",
    "\n",
    "<img src=\"https://raw.githubusercontent.com/Project-MONAI/tutorials/main/auto3dseg/figures/workflow_v1.png\" width=\"60%\" />\n",
    "\n",
    "## Descripción general\n",
    "\n",
    "La segmentación de imágenes médicas 3D es una tarea importante con gran potencial para la comprensión clínica, el diagnóstico de enfermedades y la planificación quirúrgica. Auto3DSeg es una solución integral para la segmentación de imágenes médicas 3D a gran escala. Aprovecha los últimos avances en MONAI y GPUs para desarrollar y desplegar algoritmos de manera eficiente con un rendimiento de vanguardia, tanto para principiantes como para investigadores avanzados en el campo. Según las estadísticas de las recientes conferencias MICCAI, más del 60% de los artículos son aplicaciones de algoritmos de segmentación, y más de la mitad usan conjuntos de datos 3D. Tras trabajar muchos años en este campo, hemos lanzado la solución de segmentación Auto3DSeg, que requiere una entrada mínima del usuario (por ejemplo, raíz y lista de datos).\n",
    "\n",
    "Auto3DSeg primero analiza la información global, como la intensidad del conjunto de datos, el tamaño de los datos y el espaciado. Luego genera carpetas de algoritmos en formato bundle de MONAI basándose en estadísticas de los datos y plantillas de algoritmos. Después, todos los algoritmos inician el entrenamiento del modelo para obtener los checkpoints con la mejor precisión de validación. Finalmente, el módulo de ensamblado selecciona los algoritmos mediante el ranking de los checkpoints entrenados y crea predicciones ensambladas. Mientras tanto, la solución ofrece diferentes niveles de experiencia para principiantes e investigadores avanzados. Ha sido probada en conjuntos de datos de imágenes médicas 3D a gran escala en varias modalidades diferentes.\n",
    "\n",
    "- Marco unificado: Auto3DSeg es una solución autónoma de segmentación de imágenes médicas 3D con entrada mínima del usuario.\n",
    "- Diseño modular flexible: los componentes de Auto3DSeg pueden usarse de forma independiente para satisfacer diferentes necesidades de los usuarios.\n",
    "- Soporte para \"Bring-Your-Own-Algorithm\" (BYOA): hemos introducido una forma eficiente de incorporar algoritmos propios de los usuarios al framework de Auto3DSeg.\n",
    "- Alta precisión y eficiencia: Auto3DSeg logra un rendimiento de vanguardia en la mayoría de las aplicaciones de segmentación de imágenes médicas 3D.\n",
    "\n",
    "### Tabla de contenidos\n",
    "* [Imports](#0.-Imports)\n",
    "* [Configuración del dataset](#1.-Dataset-Setup)\n",
    "* [Auto3DSeg](#2.-Auto3DSeg)\n",
    "* [Inspeccionar predicciones](#3.-Inspect-Predictions)\n",
    "* [Ejercicios opcionales](#4.-Optional-Exercises)\n",
    "* [Conclusión](#5.-Conclusion)"
   ]
  },
  {
   "cell_type": "markdown",
   "metadata": {
    "id": "8gzxzmaryvn7",
    "tags": []
   },
   "source": [
    "### Configuración del sistema\n",
    "\n",
    "Antes de continuar con el ejemplo, es importante asegurarse de que el controlador NVIDIA se haya instalado correctamente. Puedes verificarlo ejecutando el comando nvidia-smi, que debería proporcionar información sobre las GPUs en tu sistema."
   ]
  },
  {
   "cell_type": "code",
   "execution_count": null,
   "metadata": {
    "colab": {
     "base_uri": "https://localhost:8080/"
    },
    "id": "AR87aFUByvn7",
    "outputId": "e2697a2b-c48d-4cb1-983c-4c7b85081c8e"
   },
   "outputs": [],
   "source": [
    "!nvidia-smi"
   ]
  },
  {
   "cell_type": "markdown",
   "metadata": {
    "id": "-4_lbCqAyvn8"
   },
   "source": [
    "### 0. Imports\n",
    "\n",
    "En este notebook, solo necesitaremos importaciones mínimas de MONAI y utilidades, ya que Auto3DSeg gestionará el resto de importaciones durante sus distintas fases."
   ]
  },
  {
   "cell_type": "markdown",
   "metadata": {},
   "source": [
    "#### 0.1 Instalación\n",
    "Antes de ejecutar el notebook, debemos asegurarnos de que los paquetes requeridos estén instalados en el entorno. Puedes instalar los paquetes necesarios ejecutando los siguientes comandos:"
   ]
  },
  {
   "cell_type": "code",
   "execution_count": 1,
   "metadata": {
    "colab": {
     "base_uri": "https://localhost:8080/"
    },
    "id": "N-HzPbvCy4Jt",
    "outputId": "0ed93042-5497-4122-90c2-71364fcc90f3"
   },
   "outputs": [],
   "source": [
    "!python -c \"import monai\" || pip install -U \"monai[fire, nibabel, yaml, tqdm, einops]==1.2\"\n",
    "!python -c \"import yaml\" || pip install -U \"pyyaml\"\n",
    "!python -c \"import psutil\" || pip install -U \"psutil\"\n",
    "!python -c \"import tensorboard\" || pip install -U \"tensorboard\""
   ]
  },
  {
   "cell_type": "markdown",
   "metadata": {},
   "source": [
    "#### 0.2 Imports\n",
    "\n",
    "Importemos las librerías necesarias y usemos la función `print_config()` para asegurarnos de que todo está instalado correctamente."
   ]
  },
  {
   "cell_type": "code",
   "execution_count": 2,
   "metadata": {
    "colab": {
     "base_uri": "https://localhost:8080/"
    },
    "id": "m2fsq0VTyvn8",
    "outputId": "2db4a096-b533-486b-cba2-8d883cb733dc"
   },
   "outputs": [
    {
     "name": "stdout",
     "output_type": "stream",
     "text": [
      "MONAI version: 1.5.0\n",
      "Numpy version: 2.3.1\n",
      "Pytorch version: 2.6.0+cu124\n",
      "MONAI flags: HAS_EXT = False, USE_COMPILED = False, USE_META_DICT = False\n",
      "MONAI rev id: d388d1c6fec8cb3a0eebee5b5a0b9776ca59ca83\n",
      "MONAI __file__: /home/<username>/Workspace/Medical-Image-PGTD/.venv/lib/python3.11/site-packages/monai/__init__.py\n",
      "\n",
      "Optional dependencies:\n",
      "Numpy version: 2.3.1\n",
      "Pytorch version: 2.6.0+cu124\n",
      "MONAI flags: HAS_EXT = False, USE_COMPILED = False, USE_META_DICT = False\n",
      "MONAI rev id: d388d1c6fec8cb3a0eebee5b5a0b9776ca59ca83\n",
      "MONAI __file__: /home/<username>/Workspace/Medical-Image-PGTD/.venv/lib/python3.11/site-packages/monai/__init__.py\n",
      "\n",
      "Optional dependencies:\n",
      "Pytorch Ignite version: 0.4.11\n",
      "ITK version: 5.4.4\n",
      "Nibabel version: 5.3.2\n",
      "scikit-image version: 0.25.2\n",
      "scipy version: 1.16.0\n",
      "Pillow version: 11.3.0\n",
      "Tensorboard version: 2.19.0\n",
      "gdown version: 5.2.0\n",
      "TorchVision version: 0.21.0+cu124\n",
      "tqdm version: 4.67.1\n",
      "lmdb version: 1.7.2\n",
      "psutil version: 7.0.0\n",
      "pandas version: 2.3.1\n",
      "einops version: 0.8.1\n",
      "transformers version: 4.53.2\n",
      "mlflow version: 3.1.1\n",
      "pynrrd version: 1.1.3\n",
      "clearml version: 2.0.2\n",
      "\n",
      "For details about installing the optional dependencies, please visit:\n",
      "    https://docs.monai.io/en/latest/installation.html#installing-the-recommended-dependencies\n",
      "\n",
      "Pytorch Ignite version: 0.4.11\n",
      "ITK version: 5.4.4\n",
      "Nibabel version: 5.3.2\n",
      "scikit-image version: 0.25.2\n",
      "scipy version: 1.16.0\n",
      "Pillow version: 11.3.0\n",
      "Tensorboard version: 2.19.0\n",
      "gdown version: 5.2.0\n",
      "TorchVision version: 0.21.0+cu124\n",
      "tqdm version: 4.67.1\n",
      "lmdb version: 1.7.2\n",
      "psutil version: 7.0.0\n",
      "pandas version: 2.3.1\n",
      "einops version: 0.8.1\n",
      "transformers version: 4.53.2\n",
      "mlflow version: 3.1.1\n",
      "pynrrd version: 1.1.3\n",
      "clearml version: 2.0.2\n",
      "\n",
      "For details about installing the optional dependencies, please visit:\n",
      "    https://docs.monai.io/en/latest/installation.html#installing-the-recommended-dependencies\n",
      "\n"
     ]
    }
   ],
   "source": [
    "import os\n",
    "import json\n",
    "import nibabel as nib\n",
    "import numpy as np\n",
    "import matplotlib.pyplot as plt\n",
    "\n",
    "from monai.apps.auto3dseg import AutoRunner\n",
    "from monai.config import print_config\n",
    "from monai.data import create_test_image_3d\n",
    "\n",
    "print_config()"
   ]
  },
  {
   "cell_type": "markdown",
   "metadata": {
    "id": "bYmo7zTLyvn8"
   },
   "source": [
    "### 1. Configuración del dataset\n",
    "\n",
    "#### 1.1 Simular un pequeño dataset\n",
    "\n",
    "Entrenar modelos de IA puede llevar mucho tiempo, así que para proporcionar una demostración rápida de Auto3DSeg en este notebook, simularemos un pequeño conjunto de datos y entrenaremos el modelo solo por unas pocas épocas. Ten en cuenta que el rendimiento del modelo entrenado puede no ser óptimo debido al tiempo de entrenamiento limitado, pero todo el pipeline se completará en minutos.\n",
    "\n",
    "La variable `sim_datalist` contiene información sobre los datasets simulados. Incluye una lista de 24 imágenes de entrenamiento y etiquetas correspondientes, así como 8 imágenes y etiquetas de prueba. Los datos de entrenamiento se dividen en 2 folds, donde cada fold usa 12 imágenes para entrenamiento y 4 para validación. El tamaño de las dimensiones puede definirse con la variable `sim_dim`.\n",
    "\n",
    "Para continuar con la configuración del dataset, seguiremos los pasos a continuación:"
   ]
  },
  {
   "cell_type": "code",
   "execution_count": 3,
   "metadata": {
    "id": "5Tytvq-Xyvn9"
   },
   "outputs": [],
   "source": [
    "sim_datalist = {\n",
    "    \"testing\": [\n",
    "        {\"image\": \"test_image_001.nii.gz\", \"label\": \"test_label_001.nii.gz\"},\n",
    "        {\"image\": \"test_image_002.nii.gz\", \"label\": \"test_label_002.nii.gz\"},\n",
    "        {\"image\": \"test_image_003.nii.gz\", \"label\": \"test_label_003.nii.gz\"},\n",
    "        {\"image\": \"test_image_004.nii.gz\", \"label\": \"test_label_004.nii.gz\"},\n",
    "        {\"image\": \"test_image_005.nii.gz\", \"label\": \"test_label_005.nii.gz\"},\n",
    "        {\"image\": \"test_image_006.nii.gz\", \"label\": \"test_label_006.nii.gz\"},\n",
    "        {\"image\": \"test_image_007.nii.gz\", \"label\": \"test_label_007.nii.gz\"},\n",
    "        {\"image\": \"test_image_008.nii.gz\", \"label\": \"test_label_008.nii.gz\"},\n",
    "\n",
    "    ],\n",
    "    \"training\": [\n",
    "        {\"fold\": 0, \"image\": \"tr_image_001.nii.gz\", \"label\": \"tr_label_001.nii.gz\"},\n",
    "        {\"fold\": 0, \"image\": \"tr_image_002.nii.gz\", \"label\": \"tr_label_002.nii.gz\"},\n",
    "        {\"fold\": 0, \"image\": \"tr_image_003.nii.gz\", \"label\": \"tr_label_003.nii.gz\"},\n",
    "        {\"fold\": 0, \"image\": \"tr_image_004.nii.gz\", \"label\": \"tr_label_004.nii.gz\"},\n",
    "        {\"fold\": 0, \"image\": \"tr_image_005.nii.gz\", \"label\": \"tr_label_005.nii.gz\"},\n",
    "        {\"fold\": 0, \"image\": \"tr_image_006.nii.gz\", \"label\": \"tr_label_006.nii.gz\"},\n",
    "        {\"fold\": 0, \"image\": \"tr_image_007.nii.gz\", \"label\": \"tr_label_007.nii.gz\"},\n",
    "        {\"fold\": 0, \"image\": \"tr_image_008.nii.gz\", \"label\": \"tr_label_008.nii.gz\"},\n",
    "        {\"fold\": 0, \"image\": \"tr_image_009.nii.gz\", \"label\": \"tr_label_009.nii.gz\"},\n",
    "        {\"fold\": 0, \"image\": \"tr_image_010.nii.gz\", \"label\": \"tr_label_010.nii.gz\"},\n",
    "        {\"fold\": 0, \"image\": \"tr_image_011.nii.gz\", \"label\": \"tr_label_011.nii.gz\"},\n",
    "        {\"fold\": 0, \"image\": \"tr_image_012.nii.gz\", \"label\": \"tr_label_012.nii.gz\"},\n",
    "        {\"fold\": 1, \"image\": \"tr_image_013.nii.gz\", \"label\": \"tr_label_013.nii.gz\"},\n",
    "        {\"fold\": 1, \"image\": \"tr_image_014.nii.gz\", \"label\": \"tr_label_014.nii.gz\"},\n",
    "        {\"fold\": 1, \"image\": \"tr_image_015.nii.gz\", \"label\": \"tr_label_015.nii.gz\"},\n",
    "        {\"fold\": 1, \"image\": \"tr_image_016.nii.gz\", \"label\": \"tr_label_016.nii.gz\"},\n",
    "        {\"fold\": 1, \"image\": \"tr_image_017.nii.gz\", \"label\": \"tr_label_017.nii.gz\"},\n",
    "        {\"fold\": 1, \"image\": \"tr_image_018.nii.gz\", \"label\": \"tr_label_018.nii.gz\"},\n",
    "        {\"fold\": 1, \"image\": \"tr_image_019.nii.gz\", \"label\": \"tr_label_019.nii.gz\"},\n",
    "        {\"fold\": 1, \"image\": \"tr_image_020.nii.gz\", \"label\": \"tr_label_020.nii.gz\"},\n",
    "        {\"fold\": 1, \"image\": \"tr_image_021.nii.gz\", \"label\": \"tr_label_021.nii.gz\"},\n",
    "        {\"fold\": 1, \"image\": \"tr_image_022.nii.gz\", \"label\": \"tr_label_022.nii.gz\"},\n",
    "        {\"fold\": 1, \"image\": \"tr_image_023.nii.gz\", \"label\": \"tr_label_023.nii.gz\"},\n",
    "        {\"fold\": 1, \"image\": \"tr_image_024.nii.gz\", \"label\": \"tr_label_024.nii.gz\"},\n",
    "    ],\n",
    "}\n",
    "\n",
    "sim_dim = (64, 64, 64)"
   ]
  },
  {
   "cell_type": "markdown",
   "metadata": {
    "id": "CoXPbywAyvn9"
   },
   "source": [
    "#### 1.2 Generar imágenes y etiquetas\n",
    "\n",
    "Podemos utilizar la función `create_test_image_3d` de MONAI y `nib.Nifti1Image` de la librería nibabel para generar las imágenes 3D simuladas. Estas imágenes se guardarán en el `work_dir` especificado.\n",
    "\n",
    "Como ya hemos definido nuestro conjunto de imágenes, podemos iterar sobre esos nombres de imágenes y etiquetas para crear los archivos correspondientes. En este caso, nuestros datos simulados consistirán en círculos aleatorios generados en un espacio 3D, que visualizaremos a continuación."
   ]
  },
  {
   "cell_type": "code",
   "execution_count": 4,
   "metadata": {
    "id": "Frt6JbXtyvn9"
   },
   "outputs": [],
   "source": [
    "work_dir = \"./helloworld_work_dir\"\n",
    "if not os.path.isdir(work_dir):\n",
    "    os.makedirs(work_dir)\n",
    "\n",
    "dataroot_dir = os.path.join(work_dir, \"sim_dataroot\")\n",
    "if not os.path.isdir(dataroot_dir):\n",
    "    os.makedirs(dataroot_dir)\n",
    "\n",
    "datalist_file = os.path.join(work_dir, \"sim_datalist.json\")\n",
    "with open(datalist_file, \"w\") as f:\n",
    "    json.dump(sim_datalist, f)\n",
    "\n",
    "for d in sim_datalist[\"testing\"] + sim_datalist[\"training\"]:\n",
    "    im, seg = create_test_image_3d(\n",
    "        sim_dim[0], sim_dim[1], sim_dim[2], rad_max=10, num_seg_classes=1, random_state=np.random.RandomState(42)\n",
    "    )\n",
    "    image_fpath = os.path.join(dataroot_dir, d[\"image\"])\n",
    "    label_fpath = os.path.join(dataroot_dir, d[\"label\"])\n",
    "    nib.save(nib.Nifti1Image(im, affine=np.eye(4)), image_fpath)\n",
    "    nib.save(nib.Nifti1Image(seg, affine=np.eye(4)), label_fpath)"
   ]
  },
  {
   "cell_type": "markdown",
   "metadata": {
    "id": "VWaWkmEyyvn-"
   },
   "source": [
    "#### 1.3 Inspeccionar los datos simulados\n",
    "\n",
    "Para hacernos una idea de las imágenes simuladas en el conjunto de prueba, podemos seleccionar un corte de la imagen 3D y visualizarlo. Esto nos dará una vista previa de los datos simulados."
   ]
  },
  {
   "cell_type": "code",
   "execution_count": 5,
   "metadata": {
    "colab": {
     "base_uri": "https://localhost:8080/",
     "height": 263
    },
    "id": "xFIxFqcmyvn-",
    "outputId": "c7f1a26f-e84d-4671-968f-19ef5ca6ae63"
   },
   "outputs": [
    {
     "name": "stderr",
     "output_type": "stream",
     "text": [
      "__array__ implementation doesn't accept a copy keyword, so passing copy=False failed. __array__ must implement 'dtype' and 'copy' keyword arguments. To learn more, see the migration guide https://numpy.org/devdocs/numpy_2_0_migration_guide.html#adapting-to-changes-in-the-copy-keyword\n",
      "__array__ implementation doesn't accept a copy keyword, so passing copy=False failed. __array__ must implement 'dtype' and 'copy' keyword arguments. To learn more, see the migration guide https://numpy.org/devdocs/numpy_2_0_migration_guide.html#adapting-to-changes-in-the-copy-keyword\n"
     ]
    },
    {
     "data": {
      "image/png": "[encoded data removed]",
      "text/plain": [
       "<Figure size 640x480 with 4 Axes>"
      ]
     },
     "metadata": {},
     "output_type": "display_data"
    }
   ],
   "source": [
    "img_nib = nib.load(os.path.join(dataroot_dir, sim_datalist[\"testing\"][0][\"image\"]))\n",
    "lbl_nib = nib.load(os.path.join(dataroot_dir, sim_datalist[\"testing\"][0][\"label\"]))\n",
    "img = np.array(img_nib.dataobj)\n",
    "lbl = np.array(lbl_nib.dataobj)\n",
    "plt.subplot(1, 2, 1)\n",
    "plt.imshow(img[32])\n",
    "plt.title(\"image\")\n",
    "cbar = plt.colorbar(shrink=0.55)\n",
    "plt.subplot(1, 2, 2)\n",
    "plt.imshow(lbl[32])\n",
    "plt.title(\"label\")\n",
    "cbar = plt.colorbar(shrink=0.55)"
   ]
  },
  {
   "cell_type": "markdown",
   "metadata": {
    "id": "qoxljyGFyvn-"
   },
   "source": [
    "## 2. Auto3DSeg\n",
    "#### 2.1 Usando el pipeline AutoRunner de Auto3DSeg\n",
    "\n",
    "La clase `AutoRunner` proporciona una interfaz para ejecutar el pipeline de Auto3DSeg. Ofrece alta configurabilidad y requiere una entrada mínima del usuario para comenzar. `AutoRunner` configura automáticamente múltiples redes neuronales y realiza entrenamiento multi-fold para lograr un rendimiento de vanguardia. En este ejemplo, buscamos completar el pipeline en dos a cuatro minutos, por lo que necesitamos hacer algunas personalizaciones.\n",
    "\n",
    "Configuremos el `AutoRunner` con los siguientes ajustes:"
   ]
  },
  {
   "cell_type": "code",
   "execution_count": 6,
   "metadata": {
    "colab": {
     "base_uri": "https://localhost:8080/"
    },
    "id": "Y2aEQKAryvn-",
    "outputId": "feffd46d-621b-4090-e53a-ed79e367b3d8"
   },
   "outputs": [
    {
     "name": "stdout",
     "output_type": "stream",
     "text": [
      "2025-07-16 17:18:44,232 - INFO - AutoRunner using work directory /home/emi/Workspace/Medical-Image-PGTD/notebooks/helloworld_work_dir\n",
      "2025-07-16 17:18:44,235 - INFO - Found num_fold 2 based on the input datalist /home/emi/Workspace/Medical-Image-PGTD/notebooks/helloworld_work_dir/sim_datalist.json.\n",
      "2025-07-16 17:18:44,236 - INFO - Setting num_fold 2 based on the input datalist /home/emi/Workspace/Medical-Image-PGTD/notebooks/helloworld_work_dir/sim_datalist.json.\n",
      "2025-07-16 17:18:44,235 - INFO - Found num_fold 2 based on the input datalist /home/emi/Workspace/Medical-Image-PGTD/notebooks/helloworld_work_dir/sim_datalist.json.\n",
      "2025-07-16 17:18:44,236 - INFO - Setting num_fold 2 based on the input datalist /home/emi/Workspace/Medical-Image-PGTD/notebooks/helloworld_work_dir/sim_datalist.json.\n",
      "2025-07-16 17:18:44,248 - INFO - Using user defined command running prefix , will override other settings\n",
      "2025-07-16 17:18:44,248 - INFO - Using user defined command running prefix , will override other settings\n"
     ]
    }
   ],
   "source": [
    "runner = AutoRunner(\n",
    "    work_dir=work_dir,\n",
    "    input={\n",
    "        \"modality\": \"MRI\",\n",
    "        \"datalist\": datalist_file,\n",
    "        \"dataroot\": dataroot_dir,\n",
    "    }\n",
    ")"
   ]
  },
  {
   "cell_type": "markdown",
   "metadata": {
    "id": "LH1EC66lyvn_"
   },
   "source": [
    "#### 2.2 Sobrescribir los parámetros de entrenamiento\n",
    "\n",
    "Si deseas usar más de una GPU, puedes modificar la variable de entorno `CUDA_VISIBLE_DEVICES` o eliminar la clave para utilizar todos los dispositivos disponibles. Sin embargo, asegúrate de que el número de GPUs sea menor que el número de particiones en el dataset para evitar conflictos.\n",
    "\n",
    "En esta sección, puedes personalizar los ajustes de `AutoRunner` para alinearlos con tu caso de uso específico. Para este ejemplo, usaremos números pequeños para explorar la funcionalidad y el uso de Auto3DSeg. Sin embargo, en escenarios reales, deberías ajustar estos números según el tamaño del dataset, la dificultad de la tarea y el número de GPUs disponibles."
   ]
  },
  {
   "cell_type": "code",
   "execution_count": 7,
   "metadata": {
    "id": "SqkkT2wuyvn_"
   },
   "outputs": [
    {
     "data": {
      "text/plain": [
       "<monai.apps.auto3dseg.auto_runner.AutoRunner at 0x7f88b46f7450>"
      ]
     },
     "execution_count": 7,
     "metadata": {},
     "output_type": "execute_result"
    }
   ],
   "source": [
    "max_epochs = 2\n",
    "\n",
    "train_param = {\n",
    "    \"num_epochs_per_validation\": 1,\n",
    "    \"num_images_per_batch\": 2,\n",
    "    \"num_epochs\": max_epochs,\n",
    "    \"num_warmup_epochs\": 1,\n",
    "}\n",
    "runner.set_training_params(train_param)\n",
    "runner.set_num_fold(num_fold=1)"
   ]
  },
  {
   "cell_type": "markdown",
   "metadata": {
    "id": "uqBLuQILyvn_"
   },
   "source": [
    "#### 2.3 Iniciar el pipeline de Auto3DSeg\n",
    "\n",
    "Después de establecer los parámetros deseados, podemos iniciar el pipeline de Auto3DSeg usando el método `runner.run()`. El `AutoRunner` ejecutará todos los pasos necesarios para entrenar el modelo.\n",
    "\n",
    "Cada módulo de Auto3DSeg puede usarse individualmente para diferentes propósitos, y las funciones/métodos dentro de los componentes pueden ser personalizados por los usuarios.\n",
    "\n",
    "El pipeline de Auto3DSeg consiste en los siguientes pasos:\n",
    "\n",
    "- Paso 1: [Analizador de datos](https://github.com/Project-MONAI/tutorials/blob/main/auto3dseg/docs/data_analyzer.md)\n",
    "- Paso 2: [Generación de algoritmos](https://github.com/Project-MONAI/tutorials/blob/main/auto3dseg/docs/algorithm_generation.md)\n",
    "- Paso 3: [Entrenamiento, validación e inferencia del modelo](https://github.com/Project-MONAI/tutorials/blob/main/auto3dseg/docs/bundle.md)\n",
    "- Paso 4 (Opcional): [Optimización de hiperparámetros](https://github.com/Project-MONAI/tutorials/blob/main/auto3dseg/docs/hpo.md)\n",
    "- Paso 5: [Ensamblado de modelos](https://github.com/Project-MONAI/tutorials/blob/main/auto3dseg/docs/ensemble.md)"
   ]
  },
  {
   "cell_type": "code",
   "execution_count": 8,
   "metadata": {
    "colab": {
     "base_uri": "https://localhost:8080/"
    },
    "id": "lRHwy3mQyvn_",
    "outputId": "9d87e310-fdcb-429b-ca9a-f282ee66c77f"
   },
   "outputs": [
    {
     "name": "stdout",
     "output_type": "stream",
     "text": [
      "2025-07-16 17:18:49,160 - INFO - Running data analysis...\n",
      "2025-07-16 17:18:49,161 - INFO - Found 1 GPUs for data analyzing!\n",
      "2025-07-16 17:18:49,161 - INFO - Found 1 GPUs for data analyzing!\n"
     ]
    },
    {
     "name": "stderr",
     "output_type": "stream",
     "text": [
      "100%|██████████| 24/24 [00:00<00:00, 29.82it/s]"
     ]
    },
    {
     "name": "stdout",
     "output_type": "stream",
     "text": [
      "2025-07-16 17:18:50,023 - INFO - Writing data stats to /home/emi/Workspace/Medical-Image-PGTD/notebooks/helloworld_work_dir/datastats.yaml.\n",
      "2025-07-16 17:18:50,027 - INFO - Writing by-case data stats to /home/emi/Workspace/Medical-Image-PGTD/notebooks/helloworld_work_dir/datastats_by_case.yaml, this may take a while.\n",
      "2025-07-16 17:18:50,027 - INFO - Writing by-case data stats to /home/emi/Workspace/Medical-Image-PGTD/notebooks/helloworld_work_dir/datastats_by_case.yaml, this may take a while.\n",
      "2025-07-16 17:18:50,060 - INFO - BundleGen from https://github.com/Project-MONAI/research-contributions/releases/download/algo_templates/21ed8e5.tar.gz\n",
      "2025-07-16 17:18:50,060 - INFO - BundleGen from https://github.com/Project-MONAI/research-contributions/releases/download/algo_templates/21ed8e5.tar.gz\n"
     ]
    },
    {
     "name": "stderr",
     "output_type": "stream",
     "text": [
      "\n",
      "algo_templates.tar.gz: 104kB [00:00, 276kB/s]                              "
     ]
    },
    {
     "name": "stdout",
     "output_type": "stream",
     "text": [
      "2025-07-16 17:18:50,943 - INFO - Downloaded: /tmp/tmpfwoi6p67/algo_templates.tar.gz\n",
      "2025-07-16 17:18:50,944 - INFO - Expected md5 is None, skip md5 check for file /tmp/tmpfwoi6p67/algo_templates.tar.gz.\n",
      "2025-07-16 17:18:50,945 - INFO - Writing into directory: /home/emi/Workspace/Medical-Image-PGTD/notebooks/helloworld_work_dir.\n",
      "2025-07-16 17:18:50,944 - INFO - Expected md5 is None, skip md5 check for file /tmp/tmpfwoi6p67/algo_templates.tar.gz.\n",
      "2025-07-16 17:18:50,945 - INFO - Writing into directory: /home/emi/Workspace/Medical-Image-PGTD/notebooks/helloworld_work_dir.\n",
      "2025-07-16 17:18:51,020 - INFO - Generated:/home/emi/Workspace/Medical-Image-PGTD/notebooks/helloworld_work_dir/dints_0\n",
      "2025-07-16 17:18:51,020 - INFO - Generated:/home/emi/Workspace/Medical-Image-PGTD/notebooks/helloworld_work_dir/dints_0\n"
     ]
    },
    {
     "name": "stderr",
     "output_type": "stream",
     "text": [
      "\n"
     ]
    },
    {
     "name": "stdout",
     "output_type": "stream",
     "text": [
      "2025-07-16 17:18:51,036 - INFO - Generated:/home/emi/Workspace/Medical-Image-PGTD/notebooks/helloworld_work_dir/segresnet_0\n",
      "2025-07-16 17:18:51,046 - INFO - segresnet2d_0 is skipped! SegresNet2D is skipped due to median spacing of [1.0, 1.0, 1.0],  which means the dataset is not highly anisotropic, e.g. spacing[2] < 3*(spacing[0] + spacing[1])/2) .\n",
      "2025-07-16 17:18:51,046 - INFO - segresnet2d_0 is skipped! SegresNet2D is skipped due to median spacing of [1.0, 1.0, 1.0],  which means the dataset is not highly anisotropic, e.g. spacing[2] < 3*(spacing[0] + spacing[1])/2) .\n",
      "2025-07-16 17:18:51,067 - INFO - Generated:/home/emi/Workspace/Medical-Image-PGTD/notebooks/helloworld_work_dir/swinunetr_0\n",
      "2025-07-16 17:18:51,067 - INFO - Generated:/home/emi/Workspace/Medical-Image-PGTD/notebooks/helloworld_work_dir/swinunetr_0\n",
      "2025-07-16 17:18:51,080 - INFO - The keys num_warmup_epochs cannot be found in the /home/emi/Workspace/Medical-Image-PGTD/notebooks/helloworld_work_dir/dints_0/configs/hyper_parameters.yaml for training. Skipped overriding key num_warmup_epochs.\n",
      "2025-07-16 17:18:51,082 - INFO - ['python', '/home/emi/Workspace/Medical-Image-PGTD/notebooks/helloworld_work_dir/dints_0/scripts/train.py', 'run', \"--config_file='/home/emi/Workspace/Medical-Image-PGTD/notebooks/helloworld_work_dir/dints_0/configs/hyper_parameters.yaml,/home/emi/Workspace/Medical-Image-PGTD/notebooks/helloworld_work_dir/dints_0/configs/hyper_parameters_search.yaml,/home/emi/Workspace/Medical-Image-PGTD/notebooks/helloworld_work_dir/dints_0/configs/network.yaml,/home/emi/Workspace/Medical-Image-PGTD/notebooks/helloworld_work_dir/dints_0/configs/network_search.yaml,/home/emi/Workspace/Medical-Image-PGTD/notebooks/helloworld_work_dir/dints_0/configs/transforms_infer.yaml,/home/emi/Workspace/Medical-Image-PGTD/notebooks/helloworld_work_dir/dints_0/configs/transforms_train.yaml,/home/emi/Workspace/Medical-Image-PGTD/notebooks/helloworld_work_dir/dints_0/configs/transforms_validate.yaml'\", '--training#num_epochs_per_validation=1', '--training#num_images_per_batch=2', '--training#num_epochs=2']\n",
      "2025-07-16 17:18:51,080 - INFO - The keys num_warmup_epochs cannot be found in the /home/emi/Workspace/Medical-Image-PGTD/notebooks/helloworld_work_dir/dints_0/configs/hyper_parameters.yaml for training. Skipped overriding key num_warmup_epochs.\n",
      "2025-07-16 17:18:51,082 - INFO - ['python', '/home/emi/Workspace/Medical-Image-PGTD/notebooks/helloworld_work_dir/dints_0/scripts/train.py', 'run', \"--config_file='/home/emi/Workspace/Medical-Image-PGTD/notebooks/helloworld_work_dir/dints_0/configs/hyper_parameters.yaml,/home/emi/Workspace/Medical-Image-PGTD/notebooks/helloworld_work_dir/dints_0/configs/hyper_parameters_search.yaml,/home/emi/Workspace/Medical-Image-PGTD/notebooks/helloworld_work_dir/dints_0/configs/network.yaml,/home/emi/Workspace/Medical-Image-PGTD/notebooks/helloworld_work_dir/dints_0/configs/network_search.yaml,/home/emi/Workspace/Medical-Image-PGTD/notebooks/helloworld_work_dir/dints_0/configs/transforms_infer.yaml,/home/emi/Workspace/Medical-Image-PGTD/notebooks/helloworld_work_dir/dints_0/configs/transforms_train.yaml,/home/emi/Workspace/Medical-Image-PGTD/notebooks/helloworld_work_dir/dints_0/configs/transforms_validate.yaml'\", '--training#num_epochs_per_validation=1', '--training#num_images_per_batch=2', '--training#num_epochs=2']\n",
      "Warning: cannot find libcudart.so or AMD ROCm platform, set device limit is disabled\n",
      "Warning: cannot find libcudart.so or AMD ROCm platform, set device limit is disabled\n"
     ]
    },
    {
     "name": "stderr",
     "output_type": "stream",
     "text": [
      "2025/07/16 17:18:54 INFO mlflow.tracking.fluent: Experiment with name 'Auto3DSeg' does not exist. Creating a new experiment.\n",
      "dints_0 - training ...: 100%|██████████| 2/2 [00:18<00:00,  9.39s/round]\n",
      "dints_0 - training ...: 100%|██████████| 2/2 [00:18<00:00,  9.39s/round]\n"
     ]
    },
    {
     "name": "stdout",
     "output_type": "stream",
     "text": [
      "dints_0 - validation at original spacing/resolution\n"
     ]
    },
    {
     "name": "stderr",
     "output_type": "stream",
     "text": [
      "2025-07-16 17:19:19,789 - WARNING - dints_0 - training: finished\n"
     ]
    },
    {
     "name": "stdout",
     "output_type": "stream",
     "text": [
      "2025-07-16 17:19:20,768 - INFO - ['python', '/home/emi/Workspace/Medical-Image-PGTD/notebooks/helloworld_work_dir/segresnet_0/scripts/train.py', 'run', \"--config_file='/home/emi/Workspace/Medical-Image-PGTD/notebooks/helloworld_work_dir/segresnet_0/configs/hyper_parameters.yaml'\", '--num_epochs_per_validation=1', '--num_images_per_batch=2', '--num_epochs=2', '--num_warmup_epochs=1']\n"
     ]
    },
    {
     "name": "stderr",
     "output_type": "stream",
     "text": [
      "2025/07/16 17:19:23 INFO mlflow.tracking.fluent: Experiment with name 'Auto3DSeg' does not exist. Creating a new experiment.\n",
      "segresnet_0 - training: 100%|██████████| 2/2 [00:06<00:00,  3.37s/epoch]\n",
      "segresnet_0 - training: 100%|██████████| 2/2 [00:06<00:00,  3.37s/epoch]\n"
     ]
    },
    {
     "name": "stdout",
     "output_type": "stream",
     "text": [
      "2025-07-16 17:19:30,885 - INFO - ['python', '/home/emi/Workspace/Medical-Image-PGTD/notebooks/helloworld_work_dir/swinunetr_0/scripts/train.py', 'run', \"--config_file='/home/emi/Workspace/Medical-Image-PGTD/notebooks/helloworld_work_dir/swinunetr_0/configs/hyper_parameters.yaml,/home/emi/Workspace/Medical-Image-PGTD/notebooks/helloworld_work_dir/swinunetr_0/configs/network.yaml,/home/emi/Workspace/Medical-Image-PGTD/notebooks/helloworld_work_dir/swinunetr_0/configs/transforms_infer.yaml,/home/emi/Workspace/Medical-Image-PGTD/notebooks/helloworld_work_dir/swinunetr_0/configs/transforms_train.yaml,/home/emi/Workspace/Medical-Image-PGTD/notebooks/helloworld_work_dir/swinunetr_0/configs/transforms_validate.yaml'\", '--num_epochs_per_validation=1', '--num_images_per_batch=2', '--num_epochs=2', '--num_warmup_epochs=1']\n",
      "2025-07-16 17:19:46,353 - INFO - Downloaded: /home/emi/Workspace/Medical-Image-PGTD/notebooks/helloworld_work_dir/swinunetr_0/pretrained_model/swin_unetr.base_5000ep_f48_lr2e-4_pretrained.pt\n",
      "2025-07-16 17:19:46,353 - INFO - Expected md5 is None, skip md5 check for file /home/emi/Workspace/Medical-Image-PGTD/notebooks/helloworld_work_dir/swinunetr_0/pretrained_model/swin_unetr.base_5000ep_f48_lr2e-4_pretrained.pt.\n",
      "2025-07-16 17:19:46,353 - INFO - Downloaded: /home/emi/Workspace/Medical-Image-PGTD/notebooks/helloworld_work_dir/swinunetr_0/pretrained_model/swin_unetr.base_5000ep_f48_lr2e-4_pretrained.pt\n",
      "2025-07-16 17:19:46,353 - INFO - Expected md5 is None, skip md5 check for file /home/emi/Workspace/Medical-Image-PGTD/notebooks/helloworld_work_dir/swinunetr_0/pretrained_model/swin_unetr.base_5000ep_f48_lr2e-4_pretrained.pt.\n"
     ]
    },
    {
     "name": "stderr",
     "output_type": "stream",
     "text": [
      "2025/07/16 17:19:46 INFO mlflow.tracking.fluent: Experiment with name 'Auto3DSeg' does not exist. Creating a new experiment.\n",
      "swinunetr_0 - training ...: 100%|██████████| 2/2 [00:10<00:00,  5.18s/round]\n",
      "swinunetr_0 - training ...: 100%|██████████| 2/2 [00:10<00:00,  5.18s/round]\n",
      "2025-07-16 17:19:58,939 - WARNING - swinunetr_0 - training: finished\n",
      "2025-07-16 17:19:58,939 - WARNING - swinunetr_0 - training: finished\n"
     ]
    },
    {
     "name": "stdout",
     "output_type": "stream",
     "text": [
      "2025-07-16 17:19:59,902 - INFO - Ensembling using single GPU!\n",
      "2025-07-16 17:19:59,903 - INFO - The output_dir is not specified. /home/emi/Workspace/Medical-Image-PGTD/notebooks/helloworld_work_dir/ensemble_output will be used to save ensemble predictions.\n",
      "2025-07-16 17:19:59,904 - INFO - Directory /home/emi/Workspace/Medical-Image-PGTD/notebooks/helloworld_work_dir/ensemble_output is created to save ensemble predictions\n",
      "2025-07-16 17:19:59,903 - INFO - The output_dir is not specified. /home/emi/Workspace/Medical-Image-PGTD/notebooks/helloworld_work_dir/ensemble_output will be used to save ensemble predictions.\n",
      "2025-07-16 17:19:59,904 - INFO - Directory /home/emi/Workspace/Medical-Image-PGTD/notebooks/helloworld_work_dir/ensemble_output is created to save ensemble predictions\n",
      "2025-07-16 17:19:59,915 - INFO - Auto3Dseg picked the following networks to ensemble:\n",
      "2025-07-16 17:19:59,915 - INFO - swinunetr_0\n",
      "2025-07-16 17:19:59,916 - INFO - Auto3Dseg ensemble prediction outputs will be saved in /home/emi/Workspace/Medical-Image-PGTD/notebooks/helloworld_work_dir/ensemble_output.\n",
      "2025-07-16 17:19:59,915 - INFO - Auto3Dseg picked the following networks to ensemble:\n",
      "2025-07-16 17:19:59,915 - INFO - swinunetr_0\n",
      "2025-07-16 17:19:59,916 - INFO - Auto3Dseg ensemble prediction outputs will be saved in /home/emi/Workspace/Medical-Image-PGTD/notebooks/helloworld_work_dir/ensemble_output.\n"
     ]
    },
    {
     "name": "stderr",
     "output_type": "stream",
     "text": [
      "Ensembling (rank 0)...: 100%|██████████| 8/8 [00:03<00:00,  2.66it/s]\n",
      "2025-07-16 17:20:02,929 - INFO - Auto3Dseg pipeline is completed successfully.\n",
      "Ensembling (rank 0)...: 100%|██████████| 8/8 [00:03<00:00,  2.66it/s]\n",
      "2025-07-16 17:20:02,929 - INFO - Auto3Dseg pipeline is completed successfully.\n"
     ]
    }
   ],
   "source": [
    "runner.run()"
   ]
  },
  {
   "cell_type": "markdown",
   "metadata": {
    "id": "ZZnTqf7myvn_"
   },
   "source": [
    "## 3. Inspección de predicciones\n",
    "\n",
    "Ahora que hemos completado el pipeline de Auto3DSeg y obtenido la salida ensamblada, podemos inspeccionar las predicciones y comparar los resultados."
   ]
  },
  {
   "cell_type": "code",
   "execution_count": 9,
   "metadata": {
    "colab": {
     "base_uri": "https://localhost:8080/",
     "height": 467
    },
    "id": "5-FZTWbgyvn_",
    "outputId": "308f5540-6b4d-4dea-ad60-dd6701e27777"
   },
   "outputs": [
    {
     "name": "stderr",
     "output_type": "stream",
     "text": [
      "__array__ implementation doesn't accept a copy keyword, so passing copy=False failed. __array__ must implement 'dtype' and 'copy' keyword arguments. To learn more, see the migration guide https://numpy.org/devdocs/numpy_2_0_migration_guide.html#adapting-to-changes-in-the-copy-keyword\n"
     ]
    },
    {
     "data": {
      "image/png": "[encoded data removed]",
      "text/plain": [
       "<Figure size 640x480 with 8 Axes>"
      ]
     },
     "metadata": {},
     "output_type": "display_data"
    }
   ],
   "source": [
    "image_name = sim_datalist[\"testing\"][0][\"image\"].split(\".\")[0]\n",
    "prediction_nib = nib.load(os.path.join(work_dir, \"ensemble_output\", image_name + \"_ensemble\" + \".nii.gz\"))\n",
    "pred = np.array(prediction_nib.dataobj)\n",
    "\n",
    "img_slice32 = lbl[32] == 0\n",
    "label_slice32 = lbl[32] == 1\n",
    "background_slice32 = pred[32, :, :, 0] if pred.ndim == 4 else pred[32] == 0\n",
    "foreground_slice32 = pred[32, :, :, 1] if pred.ndim == 4 else pred[32] == 1\n",
    "\n",
    "plt.subplot(2, 2, 1)\n",
    "plt.imshow(img_slice32)\n",
    "plt.title(\"background groundtruth\")\n",
    "cbar = plt.colorbar(shrink=0.8)\n",
    "plt.subplot(2, 2, 2)\n",
    "plt.imshow(label_slice32)\n",
    "plt.title(\"foreground_groundtruth\")\n",
    "cbar = plt.colorbar(shrink=0.8)\n",
    "plt.subplot(2, 2, 3)\n",
    "plt.imshow(background_slice32)\n",
    "plt.title(\"background prediction\")\n",
    "cbar = plt.colorbar(shrink=0.8)\n",
    "plt.subplot(2, 2, 4)\n",
    "plt.imshow(foreground_slice32)\n",
    "plt.title(\"foreground prediction\")\n",
    "cbar = plt.colorbar(shrink=0.8)\n",
    "# set the spacing between subplots\n",
    "plt.subplots_adjust(left=0.1, bottom=0.1, right=0.9, top=0.9, wspace=0.4, hspace=0.4)\n",
    "plt.show()"
   ]
  },
  {
   "cell_type": "markdown",
   "metadata": {
    "id": "uhe6jv8iyvn_"
   },
   "source": [
    "## Conclusión\n",
    "¡Felicidades! Has completado todo el pipeline de Auto3DSeg. A lo largo del proceso, observaste cómo los algoritmos aprendieron del dataset y generaron predicciones tanto para los vóxeles de fondo como de primer plano. \n",
    "\n",
    "Auto3DSeg y AutoRunner ofrecen alta configurabilidad, permitiéndote personalizar varios aspectos del pipeline. Para mejorar tus resultados, puedes considerar aumentar el tiempo de entrenamiento, explorar diferentes métodos de ensamblado o utilizar optimización de hiperparámetros a través de las APIs de AutoRunner o el módulo Auto3DSeg.\n",
    "\n",
    "Si te interesan casos de uso reales de Auto3DSeg, puedes encontrar más información y tutoriales en la [carpeta de tutoriales de Auto3DSeg](https://github.com/Project-MONAI/tutorials/tree/main/auto3dseg/)."
   ]
  },
  {
   "cell_type": "code",
   "execution_count": null,
   "metadata": {},
   "outputs": [],
   "source": []
  }
 ],
 "metadata": {
  "accelerator": "GPU",
  "colab": {
   "gpuType": "T4",
   "provenance": []
  },
  "kernelspec": {
   "display_name": "medicalimage-pgtd",
   "language": "python",
   "name": "python3"
  },
  "language_info": {
   "codemirror_mode": {
    "name": "ipython",
    "version": 3
   },
   "file_extension": ".py",
   "mimetype": "text/x-python",
   "name": "python",
   "nbconvert_exporter": "python",
   "pygments_lexer": "ipython3",
   "version": "3.11.11"
  }
 },
 "nbformat": 4,
 "nbformat_minor": 4
}
