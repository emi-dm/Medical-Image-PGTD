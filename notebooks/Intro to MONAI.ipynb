{
 "cells": [
  {
   "cell_type": "markdown",
   "id": "conscious-latitude",
   "metadata": {
    "slideshow": {
     "slide_type": "slide"
    }
   },
   "source": [
    "<p style=\"text-align: center\">¡Bienvenido a MONAI!</p>\n",
    "<p style=\"text-align: center\">Este notebook te introducirá al diseño y arquitectura de MONAI Core. Tendrás ejemplos prácticos con transforms, cargadores de datasets, caché y redes.</p>"
   ]
  },
  {
   "cell_type": "markdown",
   "id": "wicked-latin",
   "metadata": {
    "slideshow": {
     "slide_type": "slide"
    }
   },
   "source": [
    "\n",
    "Este notebook tiene el comando pip para instalar MONAI y se añadirá a cualquier notebook subsiguiente.\n",
    "\n"
   ]
  },
  {
   "cell_type": "markdown",
   "id": "comprehensive-witness",
   "metadata": {
    "slideshow": {
     "slide_type": "slide"
    }
   },
   "source": [
    "### Verificar acceso a GPU\n",
    "\n",
    "Ejecutar **!nvidia-smi** en una celda verificará que esto ha funcionado y mostrará qué tipo de hardware tienes disponible."
   ]
  },
  {
   "cell_type": "code",
   "execution_count": 1,
   "id": "pediatric-colleague",
   "metadata": {
    "slideshow": {
     "slide_type": "fragment"
    }
   },
   "outputs": [],
   "source": [
    "!python -c \"import monai\" || pip install -qU \"monai[ignite, nibabel, torchvision, tqdm]==1.2.0\""
   ]
  },
  {
   "cell_type": "markdown",
   "id": "bibliographic-feedback",
   "metadata": {
    "slideshow": {
     "slide_type": "fragment"
    }
   },
   "source": [
    "\n",
    "\n",
    "Ejecuta la siguiente celda para instalar MONAI la primera vez que ejecutes un notebook:"
   ]
  },
  {
   "cell_type": "code",
   "execution_count": 2,
   "id": "danish-garage",
   "metadata": {
    "slideshow": {
     "slide_type": "fragment"
    }
   },
   "outputs": [
    {
     "name": "stdout",
     "output_type": "stream",
     "text": [
      "Wed Jul 16 17:03:11 2025       \n",
      "+-----------------------------------------------------------------------------------------+\n",
      "| NVIDIA-SMI 575.57.04              Driver Version: 576.52         CUDA Version: 12.9     |\n",
      "|-----------------------------------------+------------------------+----------------------+\n",
      "| GPU  Name                 Persistence-M | Bus-Id          Disp.A | Volatile Uncorr. ECC |\n",
      "| Fan  Temp   Perf          Pwr:Usage/Cap |           Memory-Usage | GPU-Util  Compute M. |\n",
      "|                                         |                        |               MIG M. |\n",
      "|=========================================+========================+======================|\n",
      "|   0  NVIDIA GeForce RTX 4060        On  |   00000000:01:00.0  On |                  N/A |\n",
      "| 30%   37C    P5            N/A  /  115W |    1323MiB /   8188MiB |      6%      Default |\n",
      "|                                         |                        |                  N/A |\n",
      "+-----------------------------------------+------------------------+----------------------+\n",
      "                                                                                         \n",
      "+-----------------------------------------------------------------------------------------+\n",
      "| Processes:                                                                              |\n",
      "|  GPU   GI   CI              PID   Type   Process name                        GPU Memory |\n",
      "|        ID   ID                                                               Usage      |\n",
      "|=========================================================================================|\n",
      "|  No running processes found                                                             |\n",
      "+-----------------------------------------------------------------------------------------+\n"
     ]
    }
   ],
   "source": [
    "!nvidia-smi"
   ]
  },
  {
   "cell_type": "markdown",
   "id": "sustained-qualification",
   "metadata": {
    "slideshow": {
     "slide_type": "slide"
    }
   },
   "source": [
    "## Comenzando con MONAI\n",
    "\n",
    "MONAI es un framework open-source basado en PyTorch para deep learning en imágenes médicas, parte del ecosistema PyTorch.\n",
    "\n",
    "*Sus objetivos son:*\n",
    "\n",
    "- desarrollar una comunidad de investigadores académicos, industriales y clínicos colaborando sobre una base común\n",
    "- crear flujos de trabajo de entrenamiento de última generación para imágenes médicas\n",
    "- proporcionar a los investigadores una forma optimizada y estandarizada de crear y evaluar modelos de deep learning"
   ]
  },
  {
   "cell_type": "markdown",
   "id": "residential-addition",
   "metadata": {
    "slideshow": {
     "slide_type": "slide"
    }
   },
   "source": [
    "### Flujo de trabajo de MONAI de principio a fin\n",
    "\n",
    "MONAI busca apoyar el deep learning en análisis de imágenes médicas en múltiples niveles. Esta figura muestra un ejemplo típico de un flujo de trabajo de principio a fin en un contexto de deep learning médico:\n",
    "\n",
    "<center><img src=\"../src/images/end_to_end.png\" style=\"width: 1400px;\"/></center>"
   ]
  },
  {
   "cell_type": "markdown",
   "id": "aggressive-observer",
   "metadata": {
    "slideshow": {
     "slide_type": "slide"
    }
   },
   "source": [
    "### ¿Cuál es la necesidad?\n",
    "\n",
    "* Las aplicaciones biomédicas tienen requerimientos específicos\n",
    "* Las modalidades de imagen (MR, CT, US, etc.) requieren funcionalidades de procesamiento de datos específicas\n",
    "* Los formatos de datos (DICOM, NIfTI, etc.) son propios de aplicaciones médicas y requieren soporte particular\n",
    "* Ciertas arquitecturas de red están diseñadas o son especialmente adecuadas para aplicaciones biomédicas\n",
    "* Los transforms de datos específicos para aplicaciones biomédicas y modalidades de imagen son muy útiles para el preprocesamiento, la augmentación durante el entrenamiento y el postprocesamiento\n",
    "* La ciencia reproducible requiere experimentos reproducibles, lo que a su vez depende de software accesible para otros científicos, incluso si solo es como base común\n",
    "* Una librería impulsada por la comunidad que provea soluciones a estos requerimientos reduce la duplicación/reimplementación\n",
    "* Implementaciones base de redes comunes, y de redes específicas de ciertos artículos, proveen una base para comparar entre redes y resultados de otros"
   ]
  },
  {
   "cell_type": "markdown",
   "id": "dynamic-environment",
   "metadata": {
    "slideshow": {
     "slide_type": "slide"
    }
   },
   "source": [
    "### ¿Cómo responde MONAI a esta necesidad?\n",
    "\n",
    "MONAI provee un framework de funcionalidades e infraestructura de deep learning para cubrir estas necesidades de manera flexible y compatible con PyTorch:\n",
    "* Soporte directo para cargar y manipular tipos de archivos biomédicos\n",
    "* Transforms específicos para datos biomédicos para regularización y augmentación de imágenes médicas para entrenamiento, validación y despliegue\n",
    "* Librería de definiciones de redes, métricas y funciones de pérdida de propósito general, implementando arquitecturas y características tanto establecidas como de vanguardia\n",
    "* Conjunto de componentes listos para usar para entrenamiento e inferencia que aprovechan la infraestructura computacional eficientemente\n",
    "\n"
   ]
  },
  {
   "cell_type": "markdown",
   "id": "be00b37a",
   "metadata": {
    "slideshow": {
     "slide_type": "slide"
    }
   },
   "source": [
    "#### Mejorando la ciencia de datos reproducible\n",
    "\n",
    "MONAI contribuye a la ciencia de datos reproducible facilitando el entrenamiento y la distribución de experimentos:\n",
    "* Un framework común subyacente ayuda en la comparación e interoperabilidad entre implementaciones de los usuarios\n",
    "* Los usuarios pueden elegir componentes y redes existentes, luego contribuir nuevo código para que sus resultados estén disponibles para otros\n",
    "* Implementaciones de referencia de redes de artículos proveen bases para estudios de replicación y comparaciones"
   ]
  },
  {
   "cell_type": "markdown",
   "id": "taken-catalog",
   "metadata": {
    "slideshow": {
     "slide_type": "slide"
    }
   },
   "source": [
    "### Arquitectura de MONAI\n",
    "Por principio de diseño explícito, MONAI provee APIs flexibles y ligeras para usuarios con distintos niveles de experiencia:\n",
    "* Todos los componentes principales son módulos independientes, fácilmente integrables en programas PyTorch existentes\n",
    "* Aprovecha los flujos de trabajo de MONAI para configurar rápidamente un programa robusto de entrenamiento o evaluación para experimentos de investigación.\n",
    "* Se proveen ejemplos y demostraciones ricos para mostrar las características clave.\n",
    "* Los investigadores contribuyen implementaciones basadas en el estado del arte para los últimos desafíos de investigación, incluyendo:\n",
    "  * Análisis de imágenes COVID-19\n",
    "  * Mecanismos de caché de datasets\n",
    "  * Modos de ejecución de modelo paralelo\n",
    "  * y más...\n"
   ]
  },
  {
   "cell_type": "markdown",
   "id": "opposite-bundle",
   "metadata": {
    "slideshow": {
     "slide_type": "slide"
    }
   },
   "source": [
    "### Arquitectura de MONAI\n",
    "\n",
    "<br>\n",
    "<center><img src=\"../src/images/arch_modules_v0.4.png\" style=\"width: 1000px;\"/></center>"
   ]
  },
  {
   "cell_type": "markdown",
   "id": "tamil-liquid",
   "metadata": {
    "slideshow": {
     "slide_type": "slide"
    }
   },
   "source": [
    "## Filosofía de diseño de MONAI\n",
    "\n",
    "Principios clave:\n",
    "* MONAI se parece a PyTorch, usa/extiende los tipos de PyTorch y sigue su filosofía de diseño general\n",
    "* MONAI es aditivo sobre PyTorch, proporcionando extensiones o envoltorios\n",
    "* MONAI es optativo e incremental, no es necesario reescribir modelos completos para integrar código existente\n",
    "* MONAI es colaborativo, proporcionando adaptadores y componentes poco acoplados para facilitar la integración con código de terceros\n",
    "* ¡MONAI es amigable con el ecosistema PyTorch y parte del ecosistema oficial!"
   ]
  },
  {
   "cell_type": "markdown",
   "id": "criminal-income",
   "metadata": {
    "slideshow": {
     "slide_type": "slide"
    }
   },
   "source": [
    "## Objetivos de aprendizaje\n",
    "\n",
    "Para ayudarte a entender más sobre los transforms de MONAI, el caché de datasets y las arquitecturas de red, esta guía te ayudará a responder seis preguntas clave:\n",
    "\n",
    "1. **¿Qué transforms están disponibles para ayudar a crear un pipeline de datos para entrenamiento?**\n",
    "2. **¿Qué se requiere para escribir un transform personalizado?**\n",
    "3. **¿Cómo creo un dataset básico de MONAI con transforms?**\n",
    "4. **¿Qué es un Dataset de MONAI y cómo funciona el caché de datasets?**\n",
    "5. **¿Qué datasets comunes provee MONAI?**\n",
    "6. **¿Qué redes y componentes de red provee MONAI y cómo se usan estos componentes para crear una red?**"
   ]
  },
  {
   "cell_type": "markdown",
   "id": "turkish-interface",
   "metadata": {
    "slideshow": {
     "slide_type": "slide"
    }
   },
   "source": [
    "### Imports\n",
    "\n",
    "Comencemos importando nuestras dependencias:\n",
    "* Vamos a cargar todo lo que necesitaremos para el resto del notebook aquí\n",
    "* Verás muchas sentencias de importación, pero nos aseguraremos de repasar cada una a lo largo del notebook."
   ]
  },
  {
   "cell_type": "markdown",
   "id": "0baac9f4",
   "metadata": {
    "slideshow": {
     "slide_type": "slide"
    }
   },
   "source": [
    "### Imports"
   ]
  },
  {
   "cell_type": "code",
   "execution_count": 3,
   "id": "specialized-tunisia",
   "metadata": {
    "slideshow": {
     "slide_type": "fragment"
    }
   },
   "outputs": [],
   "source": [
    "import tempfile\n",
    "import nibabel as nib\n",
    "import numpy as np\n",
    "import matplotlib.pyplot as plt\n",
    "from typing import Optional, Any, Mapping, Hashable\n",
    "import time\n",
    "import torch\n",
    "\n",
    "import monai\n",
    "from monai.config import print_config\n",
    "from monai.utils import first\n",
    "from monai.config import KeysCollection\n",
    "\n",
    "from monai.data import (Dataset, ArrayDataset, create_test_image_3d, DataLoader, DataLoader, \n",
    "CacheDataset, PersistentDataset, SmartCacheDataset)\n",
    "\n",
    "from monai.transforms import (Transform, MapTransform, Randomizable, EnsureChannelFirst, EnsureChannelFirstd,\n",
    "Compose, LoadImage, LoadImaged, Lambda, Lambdad, RandSpatialCrop, RandSpatialCropd, RandGaussianNoise,\n",
    "RandGaussianNoised, Orientation, Rotate, MapTransform)\n",
    "\n",
    "from monai.apps import DecathlonDataset, TciaDataset\n",
    "from monai.apps.tcia import TCIA_LABEL_DICT"
   ]
  },
  {
   "cell_type": "markdown",
   "id": "surgical-capture",
   "metadata": {
    "slideshow": {
     "slide_type": "slide"
    }
   },
   "source": [
    "### Verifica tu configuración\n",
    "\n",
    "Antes de comenzar, puede ser útil verificar la configuración de tu entorno y asegurarte de que todas las dependencias necesarias están instaladas. MONAI provee una utilidad práctica para esto con `print_config()`"
   ]
  },
  {
   "cell_type": "code",
   "execution_count": 4,
   "id": "ranging-saint",
   "metadata": {
    "slideshow": {
     "slide_type": "fragment"
    }
   },
   "outputs": [
    {
     "name": "stdout",
     "output_type": "stream",
     "text": [
      "MONAI version: 1.5.0\n",
      "Numpy version: 2.3.1\n",
      "Pytorch version: 2.6.0+cu124\n",
      "MONAI flags: HAS_EXT = False, USE_COMPILED = False, USE_META_DICT = False\n",
      "MONAI rev id: d388d1c6fec8cb3a0eebee5b5a0b9776ca59ca83\n",
      "MONAI __file__: /home/<username>/Workspace/Medical-Image-PGTD/.venv/lib/python3.11/site-packages/monai/__init__.py\n",
      "\n",
      "Optional dependencies:\n",
      "Pytorch Ignite version: 0.4.11\n",
      "ITK version: 5.4.4\n",
      "Nibabel version: 5.3.2\n",
      "scikit-image version: 0.25.2\n",
      "scipy version: 1.16.0\n",
      "Pillow version: 11.3.0\n",
      "Tensorboard version: 2.19.0\n",
      "gdown version: 5.2.0\n",
      "TorchVision version: 0.21.0+cu124\n",
      "tqdm version: 4.67.1\n",
      "lmdb version: 1.7.2\n",
      "psutil version: 7.0.0\n",
      "pandas version: 2.3.1\n",
      "einops version: 0.8.1\n",
      "transformers version: 4.53.2\n",
      "mlflow version: 3.1.1\n",
      "pynrrd version: 1.1.3\n",
      "clearml version: 2.0.2\n",
      "\n",
      "For details about installing the optional dependencies, please visit:\n",
      "    https://docs.monai.io/en/latest/installation.html#installing-the-recommended-dependencies\n",
      "\n"
     ]
    }
   ],
   "source": [
    "print_config()"
   ]
  },
  {
   "cell_type": "markdown",
   "id": "encouraging-tract",
   "metadata": {
    "slideshow": {
     "slide_type": "slide"
    }
   },
   "source": [
    "### 1. ¿Qué transforms están disponibles para ayudar a crear un pipeline de datos para entrenamiento?\n",
    "\n",
    "\n",
    "#### Entrada/salida, procesamiento y augmentación de datos de imágenes médicas\n",
    "\n",
    "Las imágenes médicas requieren métodos altamente especializados para I/O, preprocesamiento y augmentación. Suelen estar en formatos especializados con rica metainformación y los volúmenes de datos suelen ser de alta dimensión. Esto requiere procedimientos de manipulación cuidadosamente diseñados. El enfoque de MONAI en imágenes médicas se habilita mediante potentes y flexibles transformaciones de imagen que facilitan pipelines de preprocesamiento reproducibles y optimizados.\n",
    "\n",
    "<img src=\"../src/images/medical_transforms.png\" />"
   ]
  },
  {
   "cell_type": "markdown",
   "id": "falling-paste",
   "metadata": {
    "slideshow": {
     "slide_type": "slide"
    }
   },
   "source": [
    "#### Los transforms soportan datos en formato diccionario y array\n",
    "\n",
    "Los paquetes de visión por computadora más usados (como torchvision) se enfocan en procesamiento de imágenes 2D. MONAI provee transforms más específicos para el dominio, tanto para 2D como 3D, y mantiene la característica flexible de \"compose\".\n",
    "\n",
    "Como el preprocesamiento de imágenes médicas suele requerir parámetros adicionales, MONAI provee transforms para datos de entrada encapsulados en diccionarios de Python. Los usuarios pueden especificar las claves correspondientes a los campos de datos y parámetros del sistema para componer transformaciones complejas.\n",
    "\n",
    "Hay una amplia variedad de transforms en seis categorías: Crop & Pad, Intensity, IO, Post-processing, Spatial y Utilities. Para más detalles, visita todos los transforms en MONAI."
   ]
  },
  {
   "cell_type": "markdown",
   "id": "progressive-duration",
   "metadata": {
    "slideshow": {
     "slide_type": "slide"
    }
   },
   "source": [
    "#### Transforms específicos para medicina\n",
    "MONAI busca proveer un conjunto completo de transformaciones específicas para imágenes médicas. Actualmente incluyen, por ejemplo:\n",
    "\n",
    "* LoadImage: Carga archivos en formatos médicos desde la ruta proporcionada\n",
    "* Spacing: Remuestrea la imagen de entrada al pixdim especificado\n",
    "* Orientation: Cambia la orientación de la imagen a los axcodes especificados\n",
    "* RandGaussianNoise: Perturba intensidades de la imagen añadiendo ruido estadístico\n",
    "* NormalizeIntensity: Normalización de intensidad basada en media y desviación estándar\n",
    "* Affine: Transforma la imagen según parámetros afines\n",
    "* Rand2DElastic: Deformación elástica y afín aleatoria en 2D\n",
    "* Rand3DElastic: Deformación elástica y afín aleatoria en 3D"
   ]
  },
  {
   "cell_type": "markdown",
   "id": "ahead-bicycle",
   "metadata": {
    "slideshow": {
     "slide_type": "slide"
    }
   },
   "source": [
    "#### Crear datos de juguete y directorio temporal para ejemplos\n",
    "\n",
    "Crearemos un directorio temporal y lo llenaremos con algunos archivos de imagen en formato Nifti que contienen una variedad aleatoria de esferas. También crearemos un par de segmentación correspondiente que se usará más adelante en el notebook."
   ]
  },
  {
   "cell_type": "code",
   "execution_count": 5,
   "id": "standing-macedonia",
   "metadata": {
    "slideshow": {
     "slide_type": "fragment"
    }
   },
   "outputs": [],
   "source": [
    "fn_keys = (\"img\", \"seg\")  # filename keys for image and seg files\n",
    "\n",
    "root_dir = tempfile.mkdtemp()\n",
    "filenames = []\n",
    "\n",
    "for i in range(5):\n",
    "    im, seg = create_test_image_3d(128, 128, 128, num_objs=16, rad_max=25)\n",
    "\n",
    "    im_filename = f\"{root_dir}/im{i}.nii.gz\"\n",
    "    seg_filename = f\"{root_dir}/seg{i}.nii.gz\"\n",
    "    filenames.append({\"img\": im_filename, \"seg\": seg_filename})\n",
    "\n",
    "    n = nib.Nifti1Image(im, np.eye(4))\n",
    "    nib.save(n, im_filename)\n",
    "\n",
    "    n = nib.Nifti1Image(seg, np.eye(4))\n",
    "    nib.save(n, seg_filename)"
   ]
  },
  {
   "cell_type": "markdown",
   "id": "celtic-theater",
   "metadata": {
    "slideshow": {
     "slide_type": "slide"
    }
   },
   "source": [
    "#### Transforms de array\n",
    "\n",
    "Los transforms en MONAI son objetos llamables que aceptan entradas desde los datos iniciales de un dataset o de transforms previos. Podemos crearlos y llamarlos directamente sin ninguna infraestructura, ya que los componentes de MONAI están diseñados para ser lo más desacoplados posible. Por ejemplo, podemos cargar uno de nuestros archivos Nifti directamente creando el transform y llamándolo."
   ]
  },
  {
   "cell_type": "code",
   "execution_count": 6,
   "id": "purple-litigation",
   "metadata": {
    "slideshow": {
     "slide_type": "fragment"
    }
   },
   "outputs": [
    {
     "name": "stdout",
     "output_type": "stream",
     "text": [
      "<class 'monai.data.meta_tensor.MetaTensor'> torch.Size([1, 128, 128, 128]) -1\n"
     ]
    }
   ],
   "source": [
    "trans = Compose([LoadImage(image_only=True), EnsureChannelFirst()])\n",
    "img = trans(filenames[0][\"img\"])\n",
    "print(type(img), img.shape, img.get_device())"
   ]
  },
  {
   "cell_type": "markdown",
   "id": "comparative-chain",
   "metadata": {
    "slideshow": {
     "slide_type": "slide"
    }
   },
   "source": [
    "#### Transforms de diccionario\n",
    "\n",
    "Hasta ahora hemos visto transforms que se aplican a arrays individuales de Numpy, pero para la mayoría de los esquemas de entrenamiento se necesita un pipeline con múltiples valores:\n",
    "* Para esto, MONAI incluye transforms para operar sobre diccionarios de arrays, uno para cada transform de array equivalente\n",
    "* Estos pueden aplicarse a valores nombrados en un diccionario de entrada dejando intactos los valores no nombrados\n",
    "  * por ejemplo, añadiendo ruido a una imagen pero dejando la imagen de etiqueta asociada sin cambios."
   ]
  },
  {
   "cell_type": "markdown",
   "id": "6046eed8",
   "metadata": {
    "slideshow": {
     "slide_type": "slide"
    }
   },
   "source": [
    "#### Transforms de diccionario\n",
    "\n",
    "Antes en el notebook importamos los transforms equivalentes de diccionario, que tienen una 'd' al final de su nombre:\n",
    "* Usaremos esos transforms en este notebook\n",
    "* El argumento keys en LoadNiftid se usa para indicar qué claves contienen rutas a archivos Nifti\n",
    "  * Todos los demás valores en el diccionario de entrada se conservarán\n",
    "  * Con esto, podemos ver las claves retornadas al llamar al transform:"
   ]
  },
  {
   "cell_type": "code",
   "execution_count": 7,
   "id": "republican-kenya",
   "metadata": {
    "slideshow": {
     "slide_type": "fragment"
    }
   },
   "outputs": [
    {
     "name": "stdout",
     "output_type": "stream",
     "text": [
      "['img', 'seg']\n"
     ]
    }
   ],
   "source": [
    "trans = LoadImaged(keys=fn_keys)\n",
    "data = trans(filenames[0])\n",
    "print(list(data.keys()))"
   ]
  },
  {
   "cell_type": "markdown",
   "id": "waiting-palestinian",
   "metadata": {
    "slideshow": {
     "slide_type": "slide"
    }
   },
   "source": [
    "### ¿Qué se requiere para escribir un transform personalizado?\n",
    "\n"
   ]
  },
  {
   "cell_type": "markdown",
   "id": "intellectual-wrist",
   "metadata": {
    "slideshow": {
     "slide_type": "slide"
    }
   },
   "source": [
    "#### Transform personalizado de array\n",
    "\n",
    "Podemos definir nuestra propia operación de transform personalizada de varias maneras. \n",
    "\n",
    "Si se usa un callable simple como operador, `Lambda` puede envolverlo como un transform:\n",
    "* En este ejemplo definimos un transform que suma la imagen en la primera dimensión (ancho) para producir una imagen 2D:"
   ]
  },
  {
   "cell_type": "code",
   "execution_count": 8,
   "id": "selected-conservative",
   "metadata": {
    "slideshow": {
     "slide_type": "fragment"
    }
   },
   "outputs": [
    {
     "data": {
      "text/plain": [
       "<matplotlib.image.AxesImage at 0x7f09f4f3b090>"
      ]
     },
     "execution_count": 8,
     "metadata": {},
     "output_type": "execute_result"
    },
    {
     "data": {
      "image/png": "[encoded data removed]",
      "text/plain": [
       "<Figure size 640x480 with 1 Axes>"
      ]
     },
     "metadata": {},
     "output_type": "display_data"
    }
   ],
   "source": [
    "def sum_width(img):\n",
    "    return img.sum(1)\n",
    "\n",
    "\n",
    "trans = Compose([LoadImage(image_only=True), EnsureChannelFirst(), Lambda(sum_width)])\n",
    "img = trans(filenames[0][\"img\"])\n",
    "plt.imshow(img[0])"
   ]
  },
  {
   "cell_type": "markdown",
   "id": "conservative-comedy",
   "metadata": {
    "slideshow": {
     "slide_type": "slide"
    }
   },
   "source": [
    "Crear una subclase de Transform es el segundo método, y tiene la ventaja de poder definir atributos con los objetos instanciados:\n",
    "* Definamos una clase para sumar en una dimensión elegida, y usémosla para sumar en la segunda dimensión (alto):"
   ]
  },
  {
   "cell_type": "code",
   "execution_count": 9,
   "id": "alert-reproduction",
   "metadata": {
    "slideshow": {
     "slide_type": "fragment"
    }
   },
   "outputs": [
    {
     "data": {
      "text/plain": [
       "<matplotlib.image.AxesImage at 0x7f09f4c07d50>"
      ]
     },
     "execution_count": 9,
     "metadata": {},
     "output_type": "execute_result"
    },
    {
     "data": {
      "image/png": "[encoded data removed]",
      "text/plain": [
       "<Figure size 640x480 with 1 Axes>"
      ]
     },
     "metadata": {},
     "output_type": "display_data"
    }
   ],
   "source": [
    "class SumDimension(Transform):\n",
    "    def __init__(self, dim=1):\n",
    "        self.dim = dim\n",
    "\n",
    "    def __call__(self, inputs):\n",
    "        return inputs.sum(self.dim)\n",
    "\n",
    "\n",
    "trans = Compose([LoadImage(image_only=True), EnsureChannelFirst(), SumDimension(2)])\n",
    "img = trans(filenames[0][\"img\"])\n",
    "plt.imshow(img[0])"
   ]
  },
  {
   "cell_type": "markdown",
   "id": "suspected-financing",
   "metadata": {
    "slideshow": {
     "slide_type": "slide"
    }
   },
   "source": [
    "#### Transform personalizado de diccionario\n",
    "\n",
    "`Lambdad` aplica el callable dado a cada array nombrado por `keys` por separado:\n",
    "* Podemos usar esto para definir transforms que operan sobre diferentes valores nombrados en el diccionario en distintos puntos de la secuencia:"
   ]
  },
  {
   "cell_type": "code",
   "execution_count": 10,
   "id": "fantastic-eating",
   "metadata": {
    "slideshow": {
     "slide_type": "fragment"
    }
   },
   "outputs": [
    {
     "data": {
      "text/plain": [
       "<matplotlib.image.AxesImage at 0x7f09f4d52c90>"
      ]
     },
     "execution_count": 10,
     "metadata": {},
     "output_type": "execute_result"
    },
    {
     "data": {
      "image/png": "[encoded data removed]",
      "text/plain": [
       "<Figure size 640x480 with 1 Axes>"
      ]
     },
     "metadata": {},
     "output_type": "display_data"
    }
   ],
   "source": [
    "def sum_width(img):\n",
    "    return img.sum(1)\n",
    "\n",
    "def max_width(img):\n",
    "    return img.max(1)\n",
    "\n",
    "trans = Compose(\n",
    "    [LoadImaged(fn_keys), EnsureChannelFirstd(fn_keys), Lambdad((\"img\",), sum_width), Lambdad((\"seg\",), max_width)]\n",
    ")\n",
    "\n",
    "imgd = trans(filenames[0])\n",
    "img = imgd[\"img\"]\n",
    "seg = imgd[\"seg\"]\n",
    "\n",
    "plt.imshow(np.hstack((img[0] * 5 / img.max(), np.squeeze(seg[0]))))"
   ]
  },
  {
   "cell_type": "markdown",
   "id": "tired-france",
   "metadata": {
    "slideshow": {
     "slide_type": "slide"
    }
   },
   "source": [
    "#### Transforms deterministas vs no deterministas\n",
    "\n",
    "*Transforms deterministas*: Dada la misma entrada, producen la misma salida\n",
    "\n",
    "*Transforms no deterministas*: Dada la misma entrada, producen una salida aleatoria cada vez, basada en el generador de números aleatorios\n",
    "\n",
    "Los transforms no deterministas de MONAI tienen varias características útiles:\n",
    "* Por defecto, cada transform tiene su propio generador de números aleatorios\n",
    "* Los datasets pueden sobrescribir esto (ver `ArrayDataset` abajo)\n",
    "* Puedes sobrescribirlo proporcionando un 'seed' o una instancia de `RandomState`\n"
   ]
  },
  {
   "cell_type": "markdown",
   "id": "bored-california",
   "metadata": {
    "slideshow": {
     "slide_type": "slide"
    }
   },
   "source": [
    "### 3. ¿Cómo creo un dataset básico de MONAI con transforms?\n",
    "\n",
    "Ahora que hemos visto los transforms, veamos los datasets:\n",
    "* Con una fuente de datos y transforms definidos, ahora podemos crear un objeto dataset\n",
    "* La clase base de MONAI es `Dataset`, creada aquí para cargar solo los archivos de imagen Nifti\n",
    "* `Dataset` hereda de la clase de Pytorch con ese nombre y solo añade la capacidad de aplicar el transform dado a los ítems seleccionados\n",
    "  * Si conoces la clase de Pytorch, funcionará igual. "
   ]
  },
  {
   "cell_type": "code",
   "execution_count": 11,
   "id": "positive-lunch",
   "metadata": {
    "slideshow": {
     "slide_type": "fragment"
    }
   },
   "outputs": [
    {
     "name": "stdout",
     "output_type": "stream",
     "text": [
      "torch.Size([1, 128, 128, 128]) -1\n"
     ]
    }
   ],
   "source": [
    "images = [fn[\"img\"] for fn in filenames]\n",
    "\n",
    "transform = Compose([LoadImage(image_only=True), EnsureChannelFirst()])\n",
    "ds = Dataset(images, transform)\n",
    "img_tensor = ds[0]\n",
    "print(img_tensor.shape, img_tensor.get_device())"
   ]
  },
  {
   "cell_type": "markdown",
   "id": "noble-sector",
   "metadata": {
    "slideshow": {
     "slide_type": "slide"
    }
   },
   "source": [
    "#### ArrayDataset\n",
    "\n",
    "MONAI provee `ArrayDataset` para aplicaciones de entrenamiento supervisado:\n",
    "* Proporciona un pipeline para imágenes y otro para etiquetas\n",
    "* Típicamente útil cuando se hacen augmentaciones en imágenes que no tienen sentido para las etiquetas\n",
    "  * Añadir ruido, normalización, etc.\n",
    "* Ambos pipelines usan el estado aleatorio del dataset para asegurar consistencia en operaciones aleatorias\n",
    "  * Nota: Las operaciones compartidas deben estar en el mismo orden\n",
    "  * Nota: Las operaciones compartidas deben estar antes de cualquier operación no compartida"
   ]
  },
  {
   "cell_type": "markdown",
   "id": "cbec046e",
   "metadata": {
    "slideshow": {
     "slide_type": "slide"
    }
   },
   "source": [
    "#### ArrayDataset"
   ]
  },
  {
   "cell_type": "code",
   "execution_count": 12,
   "id": "golden-budget",
   "metadata": {
    "slideshow": {
     "slide_type": "fragment"
    }
   },
   "outputs": [
    {
     "data": {
      "text/plain": [
       "<matplotlib.image.AxesImage at 0x7f09f431fd50>"
      ]
     },
     "execution_count": 12,
     "metadata": {},
     "output_type": "execute_result"
    },
    {
     "data": {
      "image/png": "[encoded data removed]",
      "text/plain": [
       "<Figure size 640x480 with 1 Axes>"
      ]
     },
     "metadata": {},
     "output_type": "display_data"
    }
   ],
   "source": [
    "images = [fn[\"img\"] for fn in filenames]\n",
    "segs = [fn[\"seg\"] for fn in filenames]\n",
    "\n",
    "img_transform = Compose(\n",
    "    [\n",
    "        LoadImage(image_only=True),\n",
    "        EnsureChannelFirst(),\n",
    "        RandSpatialCrop((128, 128, 128), random_size=False),\n",
    "        RandGaussianNoise(.5, 1, 1),\n",
    "    ]\n",
    ")\n",
    "seg_transform = Compose(\n",
    "    [LoadImage(image_only=True), EnsureChannelFirst(), RandSpatialCrop((128, 128, 128), random_size=False)]\n",
    ")\n",
    "\n",
    "ds = ArrayDataset(images, img_transform, segs, seg_transform)\n",
    "im, seg = ds[0]\n",
    "plt.imshow(np.hstack([im.numpy()[0, 48], seg.numpy()[0, 48]]))"
   ]
  },
  {
   "cell_type": "markdown",
   "id": "infinite-honor",
   "metadata": {
    "slideshow": {
     "slide_type": "slide"
    }
   },
   "source": [
    "#### Dataset con transforms basados en diccionario\n",
    "\n",
    "Alternativamente, `Dataset` puede usarse con transforms basados en diccionario para construir un mapeo de resultados. Para aplicaciones de entrenamiento más allá de simples pares entrada/verdad-terreno como el anterior, esto sería más adecuado:"
   ]
  },
  {
   "cell_type": "code",
   "execution_count": 13,
   "id": "tropical-collaboration",
   "metadata": {
    "slideshow": {
     "slide_type": "fragment"
    }
   },
   "outputs": [
    {
     "data": {
      "text/plain": [
       "<matplotlib.image.AxesImage at 0x7f09f43e5b50>"
      ]
     },
     "execution_count": 13,
     "metadata": {},
     "output_type": "execute_result"
    },
    {
     "data": {
      "image/png": "[encoded data removed]",
      "text/plain": [
       "<Figure size 640x480 with 1 Axes>"
      ]
     },
     "metadata": {},
     "output_type": "display_data"
    }
   ],
   "source": [
    "trans = Compose(\n",
    "    [\n",
    "        LoadImaged(fn_keys),\n",
    "        EnsureChannelFirstd(fn_keys),\n",
    "        RandGaussianNoised((\"img\",)),\n",
    "        RandSpatialCropd(fn_keys, (128, 128, 128), random_size=False),\n",
    "    ]\n",
    ")\n",
    "\n",
    "ds = Dataset(filenames, trans)\n",
    "item = ds[0]\n",
    "im, seg = item[\"img\"], item[\"seg\"]\n",
    "plt.imshow(np.hstack([im.numpy()[0, 48], seg.numpy()[0, 48]]))"
   ]
  },
  {
   "cell_type": "markdown",
   "id": "found-sociology",
   "metadata": {
    "slideshow": {
     "slide_type": "slide"
    }
   },
   "source": [
    "#### DataLoader\n",
    "\n",
    "Con el dataset definido, ahora podemos crear el dataloader para crear lotes de datos:\n",
    "* Hereda de la clase `DataLoader` de Pytorch con algunos cambios en los argumentos por defecto del constructor\n",
    "* La funcionalidad de MONAI es compatible con el DataLoader de PyTorch\n",
    "  * La funcionalidad adicional añade extensiones clave al `DataLoader` estándar\n"
   ]
  },
  {
   "cell_type": "markdown",
   "id": "4803e234",
   "metadata": {
    "slideshow": {
     "slide_type": "slide"
    }
   },
   "source": [
    "##### Ejemplo\n",
    "* El ejemplo de `DataLoader` usa cinco procesos worker para cargar los datos reales\n",
    "* MONAI también provee varias subclases de `Dataset` para mejorar aún más la eficiencia de este proceso"
   ]
  },
  {
   "cell_type": "code",
   "execution_count": 14,
   "id": "opponent-addiction",
   "metadata": {
    "slideshow": {
     "slide_type": "fragment"
    }
   },
   "outputs": [
    {
     "name": "stdout",
     "output_type": "stream",
     "text": [
      "['img', 'seg'] torch.Size([5, 1, 128, 128, 128])\n"
     ]
    },
    {
     "data": {
      "text/plain": [
       "<matplotlib.image.AxesImage at 0x7f09f4dacf90>"
      ]
     },
     "execution_count": 14,
     "metadata": {},
     "output_type": "execute_result"
    },
    {
     "data": {
      "image/png": "[encoded data removed]",
      "text/plain": [
       "<Figure size 800x400 with 2 Axes>"
      ]
     },
     "metadata": {},
     "output_type": "display_data"
    }
   ],
   "source": [
    "loader = DataLoader(ds, batch_size=5, num_workers=5)\n",
    "batch = first(loader)\n",
    "print(list(batch.keys()), batch[\"img\"].shape)\n",
    "\n",
    "f, ax = plt.subplots(2, 1, figsize=(8, 4))\n",
    "ax[0].imshow(np.hstack(batch[\"img\"][:, 0, 64]))\n",
    "ax[1].imshow(np.hstack(batch[\"seg\"][:, 0, 64]))"
   ]
  },
  {
   "cell_type": "markdown",
   "id": "different-squad",
   "metadata": {
    "slideshow": {
     "slide_type": "slide"
    }
   },
   "source": [
    "### 4. ¿Qué es un Dataset de MONAI y cómo funciona el caché de datasets?\n",
    "\n",
    "\n",
    "A menudo los usuarios necesitan entrenar el modelo durante muchas (potencialmente miles de) épocas sobre los datos para lograr la calidad deseada del modelo:\n",
    "* Una implementación nativa de PyTorch puede cargar datos y ejecutar los mismos pasos de preprocesamiento repetidamente en cada época durante el entrenamiento\n",
    "* Puede ser lento y poco necesario, especialmente cuando los volúmenes de imágenes médicas son grandes\n",
    "* Utilizando el caché de datasets, puedes reducir el tiempo que tu sistema tarda en cargar y preprocesar estos datos\n",
    "* Reduciendo el tiempo total de entrenamiento.\n",
    "\n",
    "Demostraremos dos de las subclases de Dataset aquí, pero hay otros `Dataset` especializados útiles\n",
    "\n"
   ]
  },
  {
   "cell_type": "markdown",
   "id": "demographic-filter",
   "metadata": {
    "slideshow": {
     "slide_type": "slide"
    }
   },
   "source": [
    "#### ¿Qué es un Dataset de MONAI?\n",
    "\n",
    "Un Dataset de MONAI es un dataset genérico con una propiedad __len__, una propiedad __getitem__ y un transform callable opcional al obtener una muestra de datos.\n",
    "\n",
    "Comenzaremos inicializando algunos datos genéricos, llamando a la clase Dataset con los datos genéricos y especificando None para los transforms."
   ]
  },
  {
   "cell_type": "code",
   "execution_count": 15,
   "id": "analyzed-latest",
   "metadata": {
    "slideshow": {
     "slide_type": "fragment"
    }
   },
   "outputs": [
    {
     "name": "stdout",
     "output_type": "stream",
     "text": [
      "Length of dataset is 7\n",
      "{'data': 4}\n",
      "{'data': 9}\n",
      "{'data': 3}\n",
      "{'data': 7}\n",
      "{'data': 1}\n",
      "{'data': 2}\n",
      "{'data': 5}\n"
     ]
    }
   ],
   "source": [
    "items = [{\"data\": 4}, \n",
    "         {\"data\": 9}, \n",
    "         {\"data\": 3}, \n",
    "         {\"data\": 7}, \n",
    "         {\"data\": 1},\n",
    "         {\"data\": 2},\n",
    "         {\"data\": 5}]\n",
    "dataset = monai.data.Dataset(items, transform=None)\n",
    "\n",
    "print(f\"Length of dataset is {len(dataset)}\")\n",
    "for item in dataset:\n",
    "    print(item)"
   ]
  },
  {
   "cell_type": "markdown",
   "id": "registered-paste",
   "metadata": {
    "slideshow": {
     "slide_type": "slide"
    }
   },
   "source": [
    "#### Compatibilidad de Dataset con DataLoader de PyTorch\n",
    "\n",
    "Los datasets de MONAI pueden usarse con el DataLoader estándar de PyTorch:\n",
    "* Como se mencionó, el `DataLoader` de MONAI tiene funcionalidad adicional útil"
   ]
  },
  {
   "cell_type": "code",
   "execution_count": 16,
   "id": "suffering-royal",
   "metadata": {
    "slideshow": {
     "slide_type": "fragment"
    }
   },
   "outputs": [
    {
     "name": "stdout",
     "output_type": "stream",
     "text": [
      "{'data': tensor([4, 9])}\n",
      "{'data': tensor([3, 7])}\n",
      "{'data': tensor([1, 2])}\n",
      "{'data': tensor([5])}\n"
     ]
    }
   ],
   "source": [
    "for item in torch.utils.data.DataLoader(dataset, batch_size=2):\n",
    "    print(item)"
   ]
  },
  {
   "cell_type": "markdown",
   "id": "healthy-league",
   "metadata": {
    "slideshow": {
     "slide_type": "slide"
    }
   },
   "source": [
    "#### ¿Qué es el caché de datasets y cómo lo uso?\n",
    "\n",
    "MONAI provee versiones multihilo de `CacheDataset` y `LMDBDataset` para acelerar los pipelines de transformación durante el entrenamiento:\n",
    " * pon los transforms deterministas primero, y los aleatorios después\n",
    " * la salida de los transforms deterministas siempre es la misma, ¡así que solo se calcula una vez!\n",
    " * los transforms aleatorios producen salidas diferentes cada vez, así que deben calcularse siempre\n",
    "   * puede dar hasta 10x de aceleración en experimentos con Datasets.\n",
    " \n",
    "\n",
    " \n",
    "<img src=\"../src/images/cache_dataset.png\" style=\"width: 700px;\"/>\n",
    " \n"
   ]
  },
  {
   "cell_type": "markdown",
   "id": "approved-membrane",
   "metadata": {
    "slideshow": {
     "slide_type": "slide"
    }
   },
   "source": [
    "Para demostrar el beneficio del caché de datasets, vamos a construir un dataset con un transform lento:\n",
    " * Para eso, llamaremos a la función sleep durante cada una de las funciones `__call__`."
   ]
  },
  {
   "cell_type": "code",
   "execution_count": 17,
   "id": "occupied-vampire",
   "metadata": {
    "slideshow": {
     "slide_type": "fragment"
    }
   },
   "outputs": [
    {
     "name": "stdout",
     "output_type": "stream",
     "text": [
      "keys to square it: ('data',)\n"
     ]
    }
   ],
   "source": [
    "class SlowSquare(MapTransform):\n",
    "    def __init__(self, keys):\n",
    "        MapTransform.__init__(self, keys)\n",
    "        print(f\"keys to square it: {self.keys}\")\n",
    "\n",
    "    def __call__(self, x):\n",
    "        time.sleep(1.0)\n",
    "        output = {key: x[key] ** 2 for key in self.keys}\n",
    "        return output\n",
    "\n",
    "square_dataset = Dataset(items, transform=SlowSquare(keys=\"data\"))"
   ]
  },
  {
   "cell_type": "markdown",
   "id": "bound-armor",
   "metadata": {
    "slideshow": {
     "slide_type": "slide"
    }
   },
   "source": [
    "Como era de esperarse, tomará unos 7 segundos recorrer todos los ítems."
   ]
  },
  {
   "cell_type": "code",
   "execution_count": 18,
   "id": "limiting-laundry",
   "metadata": {
    "slideshow": {
     "slide_type": "fragment"
    }
   },
   "outputs": [
    {
     "name": "stdout",
     "output_type": "stream",
     "text": [
      "{'data': 16}\n",
      "{'data': 81}\n",
      "{'data': 9}\n",
      "{'data': 49}\n",
      "{'data': 1}\n",
      "{'data': 4}\n",
      "{'data': 25}\n",
      "CPU times: user 4.04 ms, sys: 2.41 ms, total: 6.45 ms\n",
      "Wall time: 7.07 s\n"
     ]
    }
   ],
   "source": [
    "%time for item in square_dataset: print(item)"
   ]
  },
  {
   "cell_type": "markdown",
   "id": "exterior-agriculture",
   "metadata": {
    "slideshow": {
     "slide_type": "fragment"
    }
   },
   "source": [
    "Cada vez que ejecutamos este bucle toma aproximadamente 7 segundos recorrer todos los ítems:\n",
    " * 12 minutos extra de carga por 100 épocas\n",
    " * Podemos mejorar este tiempo utilizando caché."
   ]
  },
  {
   "cell_type": "markdown",
   "id": "victorian-passenger",
   "metadata": {
    "slideshow": {
     "slide_type": "slide"
    }
   },
   "source": [
    "#### Cache Dataset\n",
    "\n",
    "Al usar [CacheDataset](https://docs.monai.io/en/latest/data.html?highlight=dataset#cachedataset) el caché se realiza cuando el objeto se inicializa por primera vez, así que la inicialización es más lenta que un dataset regular:\n",
    "* Al cachear los resultados de los transforms no aleatorios, acelera el pipeline de datos de entrenamiento\n",
    "* Si los datos solicitados no están en el caché, todos los transforms se ejecutarán normalmente."
   ]
  },
  {
   "cell_type": "code",
   "execution_count": 19,
   "id": "enclosed-union",
   "metadata": {
    "slideshow": {
     "slide_type": "fragment"
    }
   },
   "outputs": [
    {
     "name": "stdout",
     "output_type": "stream",
     "text": [
      "keys to square it: ('data',)\n"
     ]
    },
    {
     "name": "stderr",
     "output_type": "stream",
     "text": [
      "Loading dataset: 100%|██████████| 7/7 [00:05<00:00,  1.22it/s]\n"
     ]
    }
   ],
   "source": [
    "square_cached = CacheDataset(items, transform=SlowSquare(keys='data'))"
   ]
  },
  {
   "cell_type": "markdown",
   "id": "crude-latter",
   "metadata": {
    "slideshow": {
     "slide_type": "fragment"
    }
   },
   "source": [
    "Sin embargo, obtener repetidamente los ítems de un CacheDataset inicializado es rápido."
   ]
  },
  {
   "cell_type": "code",
   "execution_count": 20,
   "id": "sapphire-ticket",
   "metadata": {
    "slideshow": {
     "slide_type": "fragment"
    }
   },
   "outputs": [
    {
     "name": "stdout",
     "output_type": "stream",
     "text": [
      "3.29 μs ± 15.3 ns per loop (mean ± std. dev. of 7 runs, 100,000 loops each)\n"
     ]
    }
   ],
   "source": [
    "%timeit list(square_cached)"
   ]
  },
  {
   "cell_type": "markdown",
   "id": "homeless-chapter",
   "metadata": {
    "slideshow": {
     "slide_type": "slide"
    }
   },
   "source": [
    "### Caché persistente\n",
    "\n",
    "[PersistentDataset](https://docs.monai.io/en/latest/data.html?highlight=dataset#persistentdataset) permite almacenamiento persistente de valores precomputados para gestionar eficientemente datos en formato diccionario más grandes que la memoria:\n",
    "* Nuevamente, los componentes de transform no aleatorios se calculan la primera vez que se usan\n",
    "* Se almacenan en el cache_dir para recuperación rápida en usos posteriores"
   ]
  },
  {
   "cell_type": "code",
   "execution_count": 21,
   "id": "complete-prayer",
   "metadata": {
    "slideshow": {
     "slide_type": "fragment"
    }
   },
   "outputs": [
    {
     "name": "stdout",
     "output_type": "stream",
     "text": [
      "keys to square it: ('data',)\n",
      "{'data': 16}\n",
      "{'data': 81}\n",
      "{'data': 9}\n",
      "{'data': 49}\n",
      "{'data': 1}\n",
      "{'data': 4}\n",
      "{'data': 25}\n",
      "CPU times: user 11.1 ms, sys: 0 ns, total: 11.1 ms\n",
      "Wall time: 5.67 s\n"
     ]
    }
   ],
   "source": [
    "square_persist = monai.data.PersistentDataset(items, transform=SlowSquare(keys='data'), cache_dir=\"my_cache\")\n",
    "\n",
    "%time for item in square_persist: print(item)"
   ]
  },
  {
   "cell_type": "markdown",
   "id": "public-medline",
   "metadata": {
    "slideshow": {
     "slide_type": "slide"
    }
   },
   "source": [
    "Durante la inicialización de PersistentDataset pasamos el parámetro \"my_cache\" para la ubicación donde almacenar los datos intermedios. Veremos ese directorio abajo."
   ]
  },
  {
   "cell_type": "code",
   "execution_count": 22,
   "id": "interesting-exhibition",
   "metadata": {
    "slideshow": {
     "slide_type": "fragment"
    }
   },
   "outputs": [
    {
     "name": "stdout",
     "output_type": "stream",
     "text": [
      "57d3e1f66415b9a6a36a90dd89c708c3.pt  acdbabea1a1facbf07dbe5010a951af9.pt\n",
      "5ec8e24ba3963d83f2f6c81744796545.pt  ca0b3885ae71075716d5bd863961a8bc.pt\n",
      "6c81bd5aa312ecd4ba9a5e0340e06a55.pt  f263a1a8f1344ac65b574f0bf30813af.pt\n",
      "71177f0b196d6c5f84f26579bf19caae.pt\n"
     ]
    }
   ],
   "source": [
    "!ls my_cache"
   ]
  },
  {
   "cell_type": "markdown",
   "id": "encouraging-hamburg",
   "metadata": {
    "slideshow": {
     "slide_type": "fragment"
    }
   },
   "source": [
    "Al consultar el dataset en las siguientes épocas, no llamará al transform lento sino que usará los datos cacheados."
   ]
  },
  {
   "cell_type": "code",
   "execution_count": 23,
   "id": "intelligent-album",
   "metadata": {
    "slideshow": {
     "slide_type": "fragment"
    }
   },
   "outputs": [
    {
     "name": "stdout",
     "output_type": "stream",
     "text": [
      "199 μs ± 1.22 μs per loop (mean ± std. dev. of 7 runs, 1,000 loops each)\n"
     ]
    }
   ],
   "source": [
    "%timeit list(square_persist)"
   ]
  },
  {
   "cell_type": "markdown",
   "id": "flexible-investigator",
   "metadata": {
    "slideshow": {
     "slide_type": "fragment"
    }
   },
   "source": [
    "Las nuevas instancias del dataset pueden aprovechar los datos cacheados:"
   ]
  },
  {
   "cell_type": "code",
   "execution_count": 24,
   "id": "floating-danger",
   "metadata": {
    "slideshow": {
     "slide_type": "fragment"
    }
   },
   "outputs": [
    {
     "name": "stdout",
     "output_type": "stream",
     "text": [
      "keys to square it: ('data',)\n",
      "204 μs ± 4.67 μs per loop (mean ± std. dev. of 7 runs, 1,000 loops each)\n"
     ]
    }
   ],
   "source": [
    "square_persist_1 = monai.data.PersistentDataset(items, transform=SlowSquare(keys='data'), cache_dir=\"my_cache\")\n",
    "%timeit list(square_persist_1)"
   ]
  },
  {
   "cell_type": "markdown",
   "id": "accepted-citizenship",
   "metadata": {
    "slideshow": {
     "slide_type": "slide"
    }
   },
   "source": [
    "### 5. ¿Qué datasets comunes provee MONAI?\n",
    "\n",
    "Para comenzar rápidamente con datos de entrenamiento populares en el dominio médico, MONAI provee varios datasets específicos:\n",
    "* MedNISTDataset, DecathlonDataset, etc.\n",
    "* Proveen descarga fácil desde nuestro almacenamiento AWS, extracción de archivos de datos y soportan la generación de ítems de entrenamiento/evaluación con transforms"
   ]
  },
  {
   "cell_type": "markdown",
   "id": "wound-terry",
   "metadata": {
    "slideshow": {
     "slide_type": "slide"
    }
   },
   "source": [
    "##### Decathlon Dataset \n",
    "\n",
    "La función [DecathlonDataset](https://docs.monai.io/en/latest/data.html?highlight=dataset#decathlon-datalist) aprovecha las características descritas a lo largo de este notebook. Estos datasets son una extensión de CacheDataset cubierto arriba."
   ]
  },
  {
   "cell_type": "code",
   "execution_count": 25,
   "id": "intended-brazilian",
   "metadata": {
    "slideshow": {
     "slide_type": "fragment"
    }
   },
   "outputs": [
    {
     "name": "stderr",
     "output_type": "stream",
     "text": [
      "Task04_Hippocampus.tar: 27.1MB [00:09, 3.07MB/s]                            "
     ]
    },
    {
     "name": "stdout",
     "output_type": "stream",
     "text": [
      "2025-07-16 17:11:01,241 - INFO - Downloaded: Task04_Hippocampus.tar\n",
      "2025-07-16 17:11:01,274 - INFO - Verified 'Task04_Hippocampus.tar', md5: 9d24dba78a72977dbd1d2e110310f31b.\n",
      "2025-07-16 17:11:01,275 - INFO - Writing into directory: ..\n"
     ]
    },
    {
     "name": "stderr",
     "output_type": "stream",
     "text": [
      "\n",
      "Loading dataset: 100%|██████████| 208/208 [00:00<00:00, 377.57it/s]\n"
     ]
    }
   ],
   "source": [
    "dataset = monai.apps.DecathlonDataset(root_dir=\"./\", task=\"Task04_Hippocampus\", section=\"training\", download=True)"
   ]
  },
  {
   "cell_type": "code",
   "execution_count": 26,
   "id": "computational-assets",
   "metadata": {
    "slideshow": {
     "slide_type": "fragment"
    }
   },
   "outputs": [
    {
     "name": "stdout",
     "output_type": "stream",
     "text": [
      "{'numTraining': 260}\n",
      "{'description': 'Left and right hippocampus segmentation'}\n",
      "torch.Size([34, 56, 31])\n",
      "torch.Size([34, 56, 31])\n"
     ]
    }
   ],
   "source": [
    "print(dataset.get_properties(\"numTraining\"))\n",
    "print(dataset.get_properties(\"description\"))\n",
    "print(dataset[0]['image'].shape)\n",
    "print(dataset[0]['label'].shape)"
   ]
  },
  {
   "cell_type": "markdown",
   "id": "integrated-religious",
   "metadata": {
    "slideshow": {
     "slide_type": "slide"
    }
   },
   "source": [
    "##### TCIA Dataset\n",
    "\n",
    "[The Cancer Imaging Archive (TCIA)](https://www.cancerimagingarchive.net/) es un servicio que desidentifica y aloja un gran archivo público de imágenes médicas de cáncer:\n",
    "* TCIA es financiado por el [Cancer Imaging Program (CIP)](https://imaging.cancer.gov/), parte del [National Cancer Institute (NCI)](https://www.cancer.gov/), y es gestionado por el [Frederick National Laboratory for Cancer Research (FNLCR)](https://frederick.cancer.gov/).\n",
    "* La función `TciaDataset` descargará y extraerá automáticamente los datasets de TCIA con segmentaciones DICOM acompañantes, y funcionará como datasets de PyTorch para generar datos de entrenamiento/validación/prueba."
   ]
  },
  {
   "cell_type": "markdown",
   "id": "4d01816d",
   "metadata": {
    "slideshow": {
     "slide_type": "slide"
    }
   },
   "source": [
    "##### TCIA Dataset\n",
    "\n",
    "[Quin Prostate Dataset](https://www.cancerimagingarchive.net/collection/qin-prostate-repeatability/)"
   ]
  },
  {
   "cell_type": "code",
   "execution_count": 45,
   "id": "chemical-southeast",
   "metadata": {
    "slideshow": {
     "slide_type": "fragment"
    }
   },
   "outputs": [
    {
     "name": "stderr",
     "output_type": "stream",
     "text": [
      "1.2.276.0.7230010.3.1.3.1426846371.19508.1513205205.886.zip: 16.0kB [00:00, 22.9kB/s]"
     ]
    },
    {
     "name": "stdout",
     "output_type": "stream",
     "text": [
      "2025-07-16 17:12:32,806 - INFO - Downloaded: qin-prostate-repeatability/1.2.276.0.7230010.3.1.3.1426846371.19508.1513205205.886.zip\n",
      "2025-07-16 17:12:32,806 - INFO - Expected md5 is None, skip md5 check for file qin-prostate-repeatability/1.2.276.0.7230010.3.1.3.1426846371.19508.1513205205.886.zip.\n",
      "2025-07-16 17:12:32,806 - INFO - Writing into directory: ./qin-prostate-repeatability/raw/1.2.276.0.7230010.3.1.3.1426846371.19508.1513205205.886.\n"
     ]
    },
    {
     "name": "stderr",
     "output_type": "stream",
     "text": [
      "\n",
      "1.3.6.1.4.1.14519.5.2.1.3671.4754.250530982889039458942609884846.zip: 1.65MB [00:01, 957kB/s] "
     ]
    },
    {
     "name": "stdout",
     "output_type": "stream",
     "text": [
      "2025-07-16 17:12:36,696 - INFO - Downloaded: qin-prostate-repeatability/1.3.6.1.4.1.14519.5.2.1.3671.4754.250530982889039458942609884846.zip\n",
      "2025-07-16 17:12:36,697 - INFO - Expected md5 is None, skip md5 check for file qin-prostate-repeatability/1.3.6.1.4.1.14519.5.2.1.3671.4754.250530982889039458942609884846.zip.\n",
      "2025-07-16 17:12:36,697 - INFO - Writing into directory: ./qin-prostate-repeatability/PCAMPMRI-00015/1901/image.\n"
     ]
    },
    {
     "name": "stderr",
     "output_type": "stream",
     "text": [
      "\n"
     ]
    }
   ],
   "source": [
    "# Let's take the \"QIN-PROSTATE-Repeatability\" collection for example\n",
    "collection, seg_type = \"qin-prostate-repeatability\", \"SEG\"\n",
    "\n",
    "ds = TciaDataset(\n",
    "    root_dir=\"./\",\n",
    "    collection=collection,\n",
    "    section=\"training\",\n",
    "    download=True,\n",
    "    download_len=1,\n",
    "    seg_type=seg_type,\n",
    "    progress=True,\n",
    "    cache_rate=0.0,\n",
    "    val_frac=0.2,\n",
    ")\n",
    "\n",
    "#print(ds.datalist[0])\n",
    "#print(len(ds.datalist))"
   ]
  },
  {
   "cell_type": "markdown",
   "id": "aquatic-module",
   "metadata": {
    "slideshow": {
     "slide_type": "slide"
    }
   },
   "source": [
    "### ¿Qué redes y componentes de red provee MONAI y cómo se usan estos componentes para crear una red?\n",
    "\n",
    "MONAI provee definiciones para redes y sus componentes que heredan directamente de Pytorch Module, Sequential, etc. Estas redes de propósito general incluyen topologías parametrizables que pueden expandirse fácilmente y son independientes del resto de MONAI, por lo que pueden usarse con código de entrenamiento existente.\n",
    "\n",
    "MONAI incluye los siguientes submódulos:\n",
    "* layers: define capas de bajo nivel, fábricas para seleccionar capas de Pytorch y personalizadas según la dimensión y otros argumentos\n",
    "* blocks: bloques de nivel medio que definen conceptos reutilizables específicos a partir de los cuales se construyen las redes\n",
    "* nets: definiciones completas de redes para arquitecturas comunes, por ejemplo UNet, VNet, Densenet,\n"
   ]
  },
  {
   "cell_type": "markdown",
   "id": "f9368782",
   "metadata": {
    "slideshow": {
     "slide_type": "slide"
    }
   },
   "source": [
    "Los bloques y redes usan objetos LayerFactory como fábrica genérica para capas personalizadas y de PyTorch.\n",
    "\n",
    "MONAI provee bloques para definir:\n",
    "- Convolución con activación y regularización\n",
    "- Unidades residuales\n",
    "- Squeeze/excitation\n",
    "- Downsampling/upsampling\n",
    "- Convoluciones subpíxel"
   ]
  },
  {
   "cell_type": "markdown",
   "id": "fantastic-camel",
   "metadata": {
    "slideshow": {
     "slide_type": "slide"
    }
   },
   "source": [
    "#### ¿Cómo se usan las capas de MONAI?\n",
    "\n",
    "La funcionalidad de red representa una oportunidad de diseño significativa para MONAI:\n",
    "* Pytorch es muy poco restrictivo en cómo se definen las redes\n",
    "* Proporciona Module como clase base para crear una red y algunos métodos que deben implementarse\n",
    "* Sin embargo, no hay un patrón prescrito ni mucha funcionalidad auxiliar para inicializar redes.\n",
    "\n",
    "La falta de funcionalidad auxiliar deja mucho espacio para definir algunos patrones de \"buenas prácticas\" para construir nuevas redes en MONAI:\n",
    "* Aunque las implementaciones triviales e inflexibles de redes son fáciles,\n",
    "* Damos a los usuarios un conjunto de herramientas que facilita construir redes bien diseñadas y demostramos su valor comprometiéndonos a usarlas en las redes que construimos"
   ]
  },
  {
   "cell_type": "code",
   "execution_count": 46,
   "id": "centered-christmas",
   "metadata": {
    "slideshow": {
     "slide_type": "fragment"
    }
   },
   "outputs": [],
   "source": [
    "from monai.networks.layers import Conv, Act, split_args, Pool"
   ]
  },
  {
   "cell_type": "markdown",
   "id": "medium-client",
   "metadata": {
    "slideshow": {
     "slide_type": "slide"
    }
   },
   "source": [
    "##### Convoluciones\n",
    "\n",
    "La clase [Conv](https://docs.monai.io/en/latest/networks.html#convolution) tiene dos opciones para el primer argumento. El segundo argumento debe ser el número de dimensiones espaciales, `Conv[name, dimension]`, por ejemplo:"
   ]
  },
  {
   "cell_type": "code",
   "execution_count": 47,
   "id": "geographic-learning",
   "metadata": {
    "slideshow": {
     "slide_type": "fragment"
    }
   },
   "outputs": [
    {
     "name": "stdout",
     "output_type": "stream",
     "text": [
      "<class 'torch.nn.modules.conv.Conv1d'>\n",
      "<class 'torch.nn.modules.conv.Conv2d'>\n",
      "<class 'torch.nn.modules.conv.Conv3d'>\n",
      "<class 'torch.nn.modules.conv.ConvTranspose1d'>\n",
      "<class 'torch.nn.modules.conv.ConvTranspose2d'>\n",
      "<class 'torch.nn.modules.conv.ConvTranspose3d'>\n"
     ]
    }
   ],
   "source": [
    "print(Conv[Conv.CONV, 1])\n",
    "print(Conv[Conv.CONV, 2])\n",
    "print(Conv[Conv.CONV, 3])\n",
    "print(Conv[Conv.CONVTRANS, 1])\n",
    "print(Conv[Conv.CONVTRANS, 2])\n",
    "print(Conv[Conv.CONVTRANS, 3])"
   ]
  },
  {
   "cell_type": "markdown",
   "id": "maritime-weekend",
   "metadata": {
    "slideshow": {
     "slide_type": "fragment"
    }
   },
   "source": [
    "Las clases configuradas son las capas \"vanilla\" de PyTorch. Podemos crear instancias de ellas especificando los argumentos de la capa:"
   ]
  },
  {
   "cell_type": "code",
   "execution_count": 48,
   "id": "hydraulic-classification",
   "metadata": {
    "slideshow": {
     "slide_type": "fragment"
    }
   },
   "outputs": [
    {
     "name": "stdout",
     "output_type": "stream",
     "text": [
      "Conv2d(1, 4, kernel_size=(3, 3), stride=(1, 1))\n",
      "Conv3d(1, 4, kernel_size=(3, 3, 3), stride=(1, 1, 1))\n"
     ]
    }
   ],
   "source": [
    "print(Conv[Conv.CONV, 2](in_channels=1, out_channels=4, kernel_size=3))\n",
    "print(Conv[Conv.CONV, 3](in_channels=1, out_channels=4, kernel_size=3))"
   ]
  },
  {
   "cell_type": "markdown",
   "id": "expanded-server",
   "metadata": {
    "slideshow": {
     "slide_type": "slide"
    }
   },
   "source": [
    "##### Activación\n",
    "\n",
    "Las clases [Act](https://docs.monai.io/en/latest/networks.html#module-monai.networks.layers.Act) no requieren la información de dimensión espacial, pero soportan argumentos adicionales."
   ]
  },
  {
   "cell_type": "code",
   "execution_count": 49,
   "id": "flying-estonia",
   "metadata": {
    "slideshow": {
     "slide_type": "fragment"
    }
   },
   "outputs": [
    {
     "name": "stdout",
     "output_type": "stream",
     "text": [
      "<class 'torch.nn.modules.activation.PReLU'>\n"
     ]
    },
    {
     "data": {
      "text/plain": [
       "PReLU(num_parameters=1)"
      ]
     },
     "execution_count": 49,
     "metadata": {},
     "output_type": "execute_result"
    }
   ],
   "source": [
    "print(Act[Act.PRELU])\n",
    "Act[Act.PRELU](num_parameters=1, init=0.1)"
   ]
  },
  {
   "cell_type": "markdown",
   "id": "worth-complement",
   "metadata": {
    "slideshow": {
     "slide_type": "fragment"
    }
   },
   "source": [
    "Estas pueden especificarse completamente con una tupla `(type_name, arg_dict)`, como `(\"prelu\", {\"num_parameters\": 1, \"init\": 0.1})`:"
   ]
  },
  {
   "cell_type": "code",
   "execution_count": 50,
   "id": "varied-lebanon",
   "metadata": {
    "slideshow": {
     "slide_type": "fragment"
    }
   },
   "outputs": [
    {
     "data": {
      "text/plain": [
       "PReLU(num_parameters=1)"
      ]
     },
     "execution_count": 50,
     "metadata": {},
     "output_type": "execute_result"
    }
   ],
   "source": [
    "act_name, act_args = split_args((\"prelu\", {\"num_parameters\": 1, \"init\": 0.1}))\n",
    "Act[act_name](**act_args)"
   ]
  },
  {
   "cell_type": "markdown",
   "id": "differential-humanitarian",
   "metadata": {
    "slideshow": {
     "slide_type": "slide"
    }
   },
   "source": [
    "#### ¿Cómo se usan estos componentes para crear una red?\n",
    "\n",
    "##### Redes de definición flexible\n",
    "\n",
    "Estas APIs permiten definiciones flexibles de redes. Abajo crearemos una clase llamada `MyNetwork` que utiliza `Conv`, `Act` y `Pool`. Cada red requiere un `__init__` y una función `forward`."
   ]
  },
  {
   "cell_type": "code",
   "execution_count": 51,
   "id": "large-paper",
   "metadata": {
    "slideshow": {
     "slide_type": "fragment"
    }
   },
   "outputs": [],
   "source": [
    "class MyNetwork(torch.nn.Module):\n",
    "    def __init__(self, dims=3, in_channels=1, out_channels=8, kernel_size=3, pool_kernel=2, act=\"relu\"):\n",
    "        super(MyNetwork, self).__init__()\n",
    "        # convolution\n",
    "        self.conv = Conv[Conv.CONV, dims](in_channels, out_channels, kernel_size=kernel_size)\n",
    "        # activation\n",
    "        act_type, act_args = split_args(act)\n",
    "        self.act = Act[act_type](**act_args)\n",
    "        # pooling\n",
    "        self.pool = Pool[Pool.MAX, dims](pool_kernel)\n",
    "\n",
    "    def forward(self, x: torch.Tensor):\n",
    "        x = self.conv(x)\n",
    "        x = self.act(x)\n",
    "        x = self.pool(x)\n",
    "        return x"
   ]
  },
  {
   "cell_type": "markdown",
   "id": "narrative-massachusetts",
   "metadata": {
    "slideshow": {
     "slide_type": "slide"
    }
   },
   "source": [
    "##### Instanciaciones de ejemplo\n",
    "\n",
    "Esta definición de red puede instanciarse para soportar entradas 2D o 3D, con tamaños de kernel flexibles. Es útil al adaptar el mismo diseño de arquitectura para diferentes tareas, cambiando fácilmente entre 2D, 2.5D y 3D."
   ]
  },
  {
   "cell_type": "code",
   "execution_count": 52,
   "id": "micro-wedding",
   "metadata": {
    "slideshow": {
     "slide_type": "fragment"
    }
   },
   "outputs": [
    {
     "name": "stdout",
     "output_type": "stream",
     "text": [
      "MyNetwork(\n",
      "  (conv): Conv3d(1, 8, kernel_size=(3, 3, 3), stride=(1, 1, 1))\n",
      "  (act): ReLU()\n",
      "  (pool): MaxPool3d(kernel_size=2, stride=2, padding=0, dilation=1, ceil_mode=False)\n",
      ")\n",
      "torch.Size([3, 8, 9, 9, 14])\n",
      "MyNetwork(\n",
      "  (conv): Conv2d(3, 8, kernel_size=(3, 3), stride=(1, 1))\n",
      "  (act): ELU(alpha=1.0, inplace=True)\n",
      "  (pool): MaxPool2d(kernel_size=2, stride=2, padding=0, dilation=1, ceil_mode=False)\n",
      ")\n",
      "torch.Size([3, 8, 11, 11])\n",
      "MyNetwork(\n",
      "  (conv): Conv3d(4, 8, kernel_size=(3, 3, 1), stride=(1, 1, 1))\n",
      "  (act): Sigmoid()\n",
      "  (pool): MaxPool3d(kernel_size=2, stride=2, padding=0, dilation=1, ceil_mode=False)\n",
      ")\n",
      "torch.Size([3, 8, 14, 14, 2])\n"
     ]
    }
   ],
   "source": [
    "# default network instance\n",
    "default_net = MyNetwork()\n",
    "print(default_net)\n",
    "print(default_net(torch.ones(3, 1, 20, 20, 30)).shape)\n",
    "\n",
    "# 2D network instance\n",
    "elu_net = MyNetwork(dims=2, in_channels=3, act=(\"elu\", {\"inplace\": True}))\n",
    "print(elu_net)\n",
    "print(elu_net(torch.ones(3, 3, 24, 24)).shape)\n",
    "\n",
    "# 3D network instance with anisotropic kernels\n",
    "sigmoid_net = MyNetwork(3, in_channels=4, kernel_size=(3, 3, 1), act=\"sigmoid\")\n",
    "print(sigmoid_net)\n",
    "print(sigmoid_net(torch.ones(3, 4, 30, 30, 5)).shape)"
   ]
  },
  {
   "cell_type": "markdown",
   "id": "million-adobe",
   "metadata": {
    "slideshow": {
     "slide_type": "slide"
    }
   },
   "source": [
    "### Redes MONAI\n",
    "\n",
    "MONAI provee más de 20 redes incluyendo:\n",
    "- UNet\n",
    "- VNet\n",
    "- AHNet\n",
    "- VGG-like regressor, classifier, discriminator, critic\n",
    "- HighResNet\n",
    "- SENet\n",
    "- UNETR"
   ]
  },
  {
   "cell_type": "markdown",
   "id": "institutional-architecture",
   "metadata": {
    "slideshow": {
     "slide_type": "slide"
    }
   },
   "source": [
    "### Ejemplos de UNet\n",
    "\n",
    "Definiremos una red UNet 2D con 2 capas ocultas que tienen salidas de 8, 16 y 32 canales, y una capa inferior (bottleneck) que produce salidas de 32 canales. Los valores de stride indican el stride para la convolución inicial, es decir, downsampling en el camino descendente y upsampling en el ascendente, y usará convoluciones transpuestas para implementar el upsampling.\n"
   ]
  },
  {
   "cell_type": "code",
   "execution_count": 53,
   "id": "former-morocco",
   "metadata": {
    "slideshow": {
     "slide_type": "fragment"
    }
   },
   "outputs": [],
   "source": [
    "net = monai.networks.nets.UNet(\n",
    "    spatial_dims=2,  # 2 or 3 for a 2D or 3D network\n",
    "    in_channels=1,  # number of input channels\n",
    "    out_channels=1,  # number of output channels\n",
    "    channels=[8, 16, 32],  # channel counts for layers\n",
    "    strides=[2, 2]  # strides for mid layers\n",
    ")"
   ]
  },
  {
   "cell_type": "markdown",
   "id": "disciplinary-wedding",
   "metadata": {
    "slideshow": {
     "slide_type": "slide"
    }
   },
   "source": [
    "## Resumen\n",
    "\n",
    "Hemos cubierto Transforms, Datasets, Caché y Redes en MONAI. Algunos puntos clave:\n",
    "\n",
    "- Hay una larga lista de transforms médicos específicos disponibles en MONAI\n",
    "- Hay versiones de transforms para arrays y diccionarios.\n",
    "- Puedes crear una función lambda simple o una clase basada en transform para crear tu propio transform personalizado\n",
    "- Puedes crear un dataset de MONAI y pasarle directamente una cadena de transforms compuesta\n",
    "- Un Dataset de MONAI es un dataset genérico con una propiedad len, getitem y un transform callable opcional al obtener una muestra de datos.\n"
   ]
  },
  {
   "cell_type": "markdown",
   "id": "5ba2d4b5",
   "metadata": {
    "slideshow": {
     "slide_type": "slide"
    }
   },
   "source": [
    "## Resumen\n",
    "- Puedes usar caché de datasets para almacenar transforms y acelerar el entrenamiento. Algunas opciones incluidas son CachingDataset, PersistentCaching y SmartCaching\n",
    "- MONAI provee acceso a algunos datasets de imágenes médicas comúnmente usados, incluyendo DecathlonDataset\n",
    "- Entender las capas, bloques y redes básicas de MONAI\n",
    "- Usar capas de MONAI para implementar una red flexible e instanciar dos ejemplos de UNet con diferentes parámetros"
   ]
  }
 ],
 "metadata": {
  "celltoolbar": "Slideshow",
  "kernelspec": {
   "display_name": "medicalimage-pgtd",
   "language": "python",
   "name": "python3"
  },
  "language_info": {
   "codemirror_mode": {
    "name": "ipython",
    "version": 3
   },
   "file_extension": ".py",
   "mimetype": "text/x-python",
   "name": "python",
   "nbconvert_exporter": "python",
   "pygments_lexer": "ipython3",
   "version": "3.11.11"
  },
  "rise": {
   "header": "<img style='width: 100%; height: 100%;' src='https://raw.githubusercontent.com/Project-MONAI/project-monai.github.io/master/assets/logo/MONAI-logo_color.svg'>",
   "scroll": true,
   "theme": "white"
  }
 },
 "nbformat": 4,
 "nbformat_minor": 5
}
